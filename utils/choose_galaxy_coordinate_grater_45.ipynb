{
 "cells": [
  {
   "cell_type": "code",
   "execution_count": 1,
   "id": "41b34a59",
   "metadata": {
    "ExecuteTime": {
     "end_time": "2022-06-16T03:32:17.760937Z",
     "start_time": "2022-06-16T03:32:17.267313Z"
    }
   },
   "outputs": [],
   "source": [
    "import time, sys, os\n",
    "import gc\n",
    "\n",
    "from multiprocessing import Pool\n",
    "from astropy import units as u      # 用于单位转换的包\n",
    "from astropy.coordinates import SkyCoord\n",
    "import numpy as np\n",
    "import pandas as pd\n",
    "\n"
   ]
  },
  {
   "cell_type": "code",
   "execution_count": 5,
   "id": "517f7976",
   "metadata": {
    "ExecuteTime": {
     "end_time": "2022-06-16T03:14:18.528126Z",
     "start_time": "2022-06-16T03:14:18.521417Z"
    }
   },
   "outputs": [],
   "source": [
    "def choose_coord(a, b):\n",
    "    skycood = SkyCoord(ra=a*u.degree,dec=b*u.degree,frame='icrs')\n",
    "    g = skycood.galactic\n",
    "    w = g.b.deg\n",
    "    return w"
   ]
  },
  {
   "cell_type": "code",
   "execution_count": 6,
   "id": "42625d58",
   "metadata": {
    "ExecuteTime": {
     "end_time": "2022-06-16T03:14:19.371014Z",
     "start_time": "2022-06-16T03:14:19.365797Z"
    }
   },
   "outputs": [],
   "source": [
    "chunk_size = 1000000\n",
    "\n",
    "file = r'../dr8_v1.1_LRS_wd.csv'\n",
    "file_all = r'../dr8_v1.1_LRS_catalogue.csv'\n",
    "count = 1\n",
    "rows = 0"
   ]
  },
  {
   "cell_type": "code",
   "execution_count": 8,
   "id": "442b32ad",
   "metadata": {
    "ExecuteTime": {
     "end_time": "2022-06-16T03:16:14.216317Z",
     "start_time": "2022-06-16T03:15:03.557552Z"
    }
   },
   "outputs": [
    {
     "name": "stderr",
     "output_type": "stream",
     "text": [
      "/usr/local/lib/python3.8/dist-packages/IPython/core/interactiveshell.py:3165: DtypeWarning: Columns (41) have mixed types.Specify dtype option on import or set low_memory=False.\n",
      "  has_raised = await self.run_ast_nodes(code_ast.body, cell_name,\n"
     ]
    },
    {
     "data": {
      "text/plain": [
       "(10927505, 49)"
      ]
     },
     "execution_count": 8,
     "metadata": {},
     "output_type": "execute_result"
    }
   ],
   "source": [
    "data = pd.read_csv(file_all)\n",
    "data.shape"
   ]
  },
  {
   "cell_type": "code",
   "execution_count": 9,
   "id": "6fdb740e",
   "metadata": {
    "ExecuteTime": {
     "end_time": "2022-06-16T03:32:09.354926Z",
     "start_time": "2022-06-16T03:16:27.272095Z"
    }
   },
   "outputs": [
    {
     "ename": "KeyboardInterrupt",
     "evalue": "",
     "output_type": "error",
     "traceback": [
      "\u001b[0;31m---------------------------------------------------------------------------\u001b[0m",
      "\u001b[0;31mKeyboardInterrupt\u001b[0m                         Traceback (most recent call last)",
      "\u001b[0;32m<ipython-input-9-6367fba3a816>\u001b[0m in \u001b[0;36m<module>\u001b[0;34m\u001b[0m\n\u001b[0;32m----> 1\u001b[0;31m \u001b[0mdata\u001b[0m\u001b[0;34m[\u001b[0m\u001b[0;34m'b'\u001b[0m\u001b[0;34m]\u001b[0m \u001b[0;34m=\u001b[0m \u001b[0mdata\u001b[0m\u001b[0;34m.\u001b[0m\u001b[0mapply\u001b[0m\u001b[0;34m(\u001b[0m\u001b[0;32mlambda\u001b[0m \u001b[0mx\u001b[0m\u001b[0;34m:\u001b[0m \u001b[0mchoose_coord\u001b[0m\u001b[0;34m(\u001b[0m\u001b[0mx\u001b[0m\u001b[0;34m[\u001b[0m\u001b[0;34m\"ra_obs\"\u001b[0m\u001b[0;34m]\u001b[0m\u001b[0;34m,\u001b[0m \u001b[0mx\u001b[0m\u001b[0;34m[\u001b[0m\u001b[0;34m\"dec_obs\"\u001b[0m\u001b[0;34m]\u001b[0m\u001b[0;34m)\u001b[0m\u001b[0;34m,\u001b[0m \u001b[0maxis\u001b[0m\u001b[0;34m=\u001b[0m\u001b[0;36m1\u001b[0m\u001b[0;34m)\u001b[0m\u001b[0;34m\u001b[0m\u001b[0;34m\u001b[0m\u001b[0m\n\u001b[0m",
      "\u001b[0;32m/usr/local/lib/python3.8/dist-packages/pandas/core/frame.py\u001b[0m in \u001b[0;36mapply\u001b[0;34m(self, func, axis, raw, result_type, args, **kwds)\u001b[0m\n\u001b[1;32m   7766\u001b[0m             \u001b[0mkwds\u001b[0m\u001b[0;34m=\u001b[0m\u001b[0mkwds\u001b[0m\u001b[0;34m,\u001b[0m\u001b[0;34m\u001b[0m\u001b[0;34m\u001b[0m\u001b[0m\n\u001b[1;32m   7767\u001b[0m         )\n\u001b[0;32m-> 7768\u001b[0;31m         \u001b[0;32mreturn\u001b[0m \u001b[0mop\u001b[0m\u001b[0;34m.\u001b[0m\u001b[0mget_result\u001b[0m\u001b[0;34m(\u001b[0m\u001b[0;34m)\u001b[0m\u001b[0;34m\u001b[0m\u001b[0;34m\u001b[0m\u001b[0m\n\u001b[0m\u001b[1;32m   7769\u001b[0m \u001b[0;34m\u001b[0m\u001b[0m\n\u001b[1;32m   7770\u001b[0m     \u001b[0;32mdef\u001b[0m \u001b[0mapplymap\u001b[0m\u001b[0;34m(\u001b[0m\u001b[0mself\u001b[0m\u001b[0;34m,\u001b[0m \u001b[0mfunc\u001b[0m\u001b[0;34m,\u001b[0m \u001b[0mna_action\u001b[0m\u001b[0;34m:\u001b[0m \u001b[0mOptional\u001b[0m\u001b[0;34m[\u001b[0m\u001b[0mstr\u001b[0m\u001b[0;34m]\u001b[0m \u001b[0;34m=\u001b[0m \u001b[0;32mNone\u001b[0m\u001b[0;34m)\u001b[0m \u001b[0;34m->\u001b[0m \u001b[0mDataFrame\u001b[0m\u001b[0;34m:\u001b[0m\u001b[0;34m\u001b[0m\u001b[0;34m\u001b[0m\u001b[0m\n",
      "\u001b[0;32m/usr/local/lib/python3.8/dist-packages/pandas/core/apply.py\u001b[0m in \u001b[0;36mget_result\u001b[0;34m(self)\u001b[0m\n\u001b[1;32m    183\u001b[0m             \u001b[0;32mreturn\u001b[0m \u001b[0mself\u001b[0m\u001b[0;34m.\u001b[0m\u001b[0mapply_raw\u001b[0m\u001b[0;34m(\u001b[0m\u001b[0;34m)\u001b[0m\u001b[0;34m\u001b[0m\u001b[0;34m\u001b[0m\u001b[0m\n\u001b[1;32m    184\u001b[0m \u001b[0;34m\u001b[0m\u001b[0m\n\u001b[0;32m--> 185\u001b[0;31m         \u001b[0;32mreturn\u001b[0m \u001b[0mself\u001b[0m\u001b[0;34m.\u001b[0m\u001b[0mapply_standard\u001b[0m\u001b[0;34m(\u001b[0m\u001b[0;34m)\u001b[0m\u001b[0;34m\u001b[0m\u001b[0;34m\u001b[0m\u001b[0m\n\u001b[0m\u001b[1;32m    186\u001b[0m \u001b[0;34m\u001b[0m\u001b[0m\n\u001b[1;32m    187\u001b[0m     \u001b[0;32mdef\u001b[0m \u001b[0mapply_empty_result\u001b[0m\u001b[0;34m(\u001b[0m\u001b[0mself\u001b[0m\u001b[0;34m)\u001b[0m\u001b[0;34m:\u001b[0m\u001b[0;34m\u001b[0m\u001b[0;34m\u001b[0m\u001b[0m\n",
      "\u001b[0;32m/usr/local/lib/python3.8/dist-packages/pandas/core/apply.py\u001b[0m in \u001b[0;36mapply_standard\u001b[0;34m(self)\u001b[0m\n\u001b[1;32m    274\u001b[0m \u001b[0;34m\u001b[0m\u001b[0m\n\u001b[1;32m    275\u001b[0m     \u001b[0;32mdef\u001b[0m \u001b[0mapply_standard\u001b[0m\u001b[0;34m(\u001b[0m\u001b[0mself\u001b[0m\u001b[0;34m)\u001b[0m\u001b[0;34m:\u001b[0m\u001b[0;34m\u001b[0m\u001b[0;34m\u001b[0m\u001b[0m\n\u001b[0;32m--> 276\u001b[0;31m         \u001b[0mresults\u001b[0m\u001b[0;34m,\u001b[0m \u001b[0mres_index\u001b[0m \u001b[0;34m=\u001b[0m \u001b[0mself\u001b[0m\u001b[0;34m.\u001b[0m\u001b[0mapply_series_generator\u001b[0m\u001b[0;34m(\u001b[0m\u001b[0;34m)\u001b[0m\u001b[0;34m\u001b[0m\u001b[0;34m\u001b[0m\u001b[0m\n\u001b[0m\u001b[1;32m    277\u001b[0m \u001b[0;34m\u001b[0m\u001b[0m\n\u001b[1;32m    278\u001b[0m         \u001b[0;31m# wrap results\u001b[0m\u001b[0;34m\u001b[0m\u001b[0;34m\u001b[0m\u001b[0;34m\u001b[0m\u001b[0m\n",
      "\u001b[0;32m/usr/local/lib/python3.8/dist-packages/pandas/core/apply.py\u001b[0m in \u001b[0;36mapply_series_generator\u001b[0;34m(self)\u001b[0m\n\u001b[1;32m    288\u001b[0m             \u001b[0;32mfor\u001b[0m \u001b[0mi\u001b[0m\u001b[0;34m,\u001b[0m \u001b[0mv\u001b[0m \u001b[0;32min\u001b[0m \u001b[0menumerate\u001b[0m\u001b[0;34m(\u001b[0m\u001b[0mseries_gen\u001b[0m\u001b[0;34m)\u001b[0m\u001b[0;34m:\u001b[0m\u001b[0;34m\u001b[0m\u001b[0;34m\u001b[0m\u001b[0m\n\u001b[1;32m    289\u001b[0m                 \u001b[0;31m# ignore SettingWithCopy here in case the user mutates\u001b[0m\u001b[0;34m\u001b[0m\u001b[0;34m\u001b[0m\u001b[0;34m\u001b[0m\u001b[0m\n\u001b[0;32m--> 290\u001b[0;31m                 \u001b[0mresults\u001b[0m\u001b[0;34m[\u001b[0m\u001b[0mi\u001b[0m\u001b[0;34m]\u001b[0m \u001b[0;34m=\u001b[0m \u001b[0mself\u001b[0m\u001b[0;34m.\u001b[0m\u001b[0mf\u001b[0m\u001b[0;34m(\u001b[0m\u001b[0mv\u001b[0m\u001b[0;34m)\u001b[0m\u001b[0;34m\u001b[0m\u001b[0;34m\u001b[0m\u001b[0m\n\u001b[0m\u001b[1;32m    291\u001b[0m                 \u001b[0;32mif\u001b[0m \u001b[0misinstance\u001b[0m\u001b[0;34m(\u001b[0m\u001b[0mresults\u001b[0m\u001b[0;34m[\u001b[0m\u001b[0mi\u001b[0m\u001b[0;34m]\u001b[0m\u001b[0;34m,\u001b[0m \u001b[0mABCSeries\u001b[0m\u001b[0;34m)\u001b[0m\u001b[0;34m:\u001b[0m\u001b[0;34m\u001b[0m\u001b[0;34m\u001b[0m\u001b[0m\n\u001b[1;32m    292\u001b[0m                     \u001b[0;31m# If we have a view on v, we need to make a copy because\u001b[0m\u001b[0;34m\u001b[0m\u001b[0;34m\u001b[0m\u001b[0;34m\u001b[0m\u001b[0m\n",
      "\u001b[0;32m<ipython-input-9-6367fba3a816>\u001b[0m in \u001b[0;36m<lambda>\u001b[0;34m(x)\u001b[0m\n\u001b[0;32m----> 1\u001b[0;31m \u001b[0mdata\u001b[0m\u001b[0;34m[\u001b[0m\u001b[0;34m'b'\u001b[0m\u001b[0;34m]\u001b[0m \u001b[0;34m=\u001b[0m \u001b[0mdata\u001b[0m\u001b[0;34m.\u001b[0m\u001b[0mapply\u001b[0m\u001b[0;34m(\u001b[0m\u001b[0;32mlambda\u001b[0m \u001b[0mx\u001b[0m\u001b[0;34m:\u001b[0m \u001b[0mchoose_coord\u001b[0m\u001b[0;34m(\u001b[0m\u001b[0mx\u001b[0m\u001b[0;34m[\u001b[0m\u001b[0;34m\"ra_obs\"\u001b[0m\u001b[0;34m]\u001b[0m\u001b[0;34m,\u001b[0m \u001b[0mx\u001b[0m\u001b[0;34m[\u001b[0m\u001b[0;34m\"dec_obs\"\u001b[0m\u001b[0;34m]\u001b[0m\u001b[0;34m)\u001b[0m\u001b[0;34m,\u001b[0m \u001b[0maxis\u001b[0m\u001b[0;34m=\u001b[0m\u001b[0;36m1\u001b[0m\u001b[0;34m)\u001b[0m\u001b[0;34m\u001b[0m\u001b[0;34m\u001b[0m\u001b[0m\n\u001b[0m",
      "\u001b[0;32m<ipython-input-5-c1ef4cded635>\u001b[0m in \u001b[0;36mchoose_coord\u001b[0;34m(a, b)\u001b[0m\n\u001b[1;32m      1\u001b[0m \u001b[0;32mdef\u001b[0m \u001b[0mchoose_coord\u001b[0m\u001b[0;34m(\u001b[0m\u001b[0ma\u001b[0m\u001b[0;34m,\u001b[0m \u001b[0mb\u001b[0m\u001b[0;34m)\u001b[0m\u001b[0;34m:\u001b[0m\u001b[0;34m\u001b[0m\u001b[0;34m\u001b[0m\u001b[0m\n\u001b[1;32m      2\u001b[0m     \u001b[0mskycood\u001b[0m \u001b[0;34m=\u001b[0m \u001b[0mSkyCoord\u001b[0m\u001b[0;34m(\u001b[0m\u001b[0mra\u001b[0m\u001b[0;34m=\u001b[0m\u001b[0ma\u001b[0m\u001b[0;34m*\u001b[0m\u001b[0mu\u001b[0m\u001b[0;34m.\u001b[0m\u001b[0mdegree\u001b[0m\u001b[0;34m,\u001b[0m\u001b[0mdec\u001b[0m\u001b[0;34m=\u001b[0m\u001b[0mb\u001b[0m\u001b[0;34m*\u001b[0m\u001b[0mu\u001b[0m\u001b[0;34m.\u001b[0m\u001b[0mdegree\u001b[0m\u001b[0;34m,\u001b[0m\u001b[0mframe\u001b[0m\u001b[0;34m=\u001b[0m\u001b[0;34m'icrs'\u001b[0m\u001b[0;34m)\u001b[0m\u001b[0;34m\u001b[0m\u001b[0;34m\u001b[0m\u001b[0m\n\u001b[0;32m----> 3\u001b[0;31m     \u001b[0mg\u001b[0m \u001b[0;34m=\u001b[0m \u001b[0mskycood\u001b[0m\u001b[0;34m.\u001b[0m\u001b[0mgalactic\u001b[0m\u001b[0;34m\u001b[0m\u001b[0;34m\u001b[0m\u001b[0m\n\u001b[0m\u001b[1;32m      4\u001b[0m     \u001b[0mw\u001b[0m \u001b[0;34m=\u001b[0m \u001b[0mg\u001b[0m\u001b[0;34m.\u001b[0m\u001b[0mb\u001b[0m\u001b[0;34m.\u001b[0m\u001b[0mdeg\u001b[0m\u001b[0;34m\u001b[0m\u001b[0;34m\u001b[0m\u001b[0m\n\u001b[1;32m      5\u001b[0m     \u001b[0;32mreturn\u001b[0m \u001b[0mw\u001b[0m\u001b[0;34m\u001b[0m\u001b[0;34m\u001b[0m\u001b[0m\n",
      "\u001b[0;32m~/.local/lib/python3.8/site-packages/astropy/coordinates/sky_coordinate.py\u001b[0m in \u001b[0;36m__getattr__\u001b[0;34m(self, attr)\u001b[0m\n\u001b[1;32m    784\u001b[0m             \u001b[0mframe_cls\u001b[0m \u001b[0;34m=\u001b[0m \u001b[0mframe_transform_graph\u001b[0m\u001b[0;34m.\u001b[0m\u001b[0mlookup_name\u001b[0m\u001b[0;34m(\u001b[0m\u001b[0mattr\u001b[0m\u001b[0;34m)\u001b[0m\u001b[0;34m\u001b[0m\u001b[0;34m\u001b[0m\u001b[0m\n\u001b[1;32m    785\u001b[0m             \u001b[0;32mif\u001b[0m \u001b[0mframe_cls\u001b[0m \u001b[0;32mis\u001b[0m \u001b[0;32mnot\u001b[0m \u001b[0;32mNone\u001b[0m \u001b[0;32mand\u001b[0m \u001b[0mself\u001b[0m\u001b[0;34m.\u001b[0m\u001b[0mframe\u001b[0m\u001b[0;34m.\u001b[0m\u001b[0mis_transformable_to\u001b[0m\u001b[0;34m(\u001b[0m\u001b[0mframe_cls\u001b[0m\u001b[0;34m)\u001b[0m\u001b[0;34m:\u001b[0m\u001b[0;34m\u001b[0m\u001b[0;34m\u001b[0m\u001b[0m\n\u001b[0;32m--> 786\u001b[0;31m                 \u001b[0;32mreturn\u001b[0m \u001b[0mself\u001b[0m\u001b[0;34m.\u001b[0m\u001b[0mtransform_to\u001b[0m\u001b[0;34m(\u001b[0m\u001b[0mattr\u001b[0m\u001b[0;34m)\u001b[0m\u001b[0;34m\u001b[0m\u001b[0;34m\u001b[0m\u001b[0m\n\u001b[0m\u001b[1;32m    787\u001b[0m \u001b[0;34m\u001b[0m\u001b[0m\n\u001b[1;32m    788\u001b[0m         \u001b[0;31m# Fail\u001b[0m\u001b[0;34m\u001b[0m\u001b[0;34m\u001b[0m\u001b[0;34m\u001b[0m\u001b[0m\n",
      "\u001b[0;32m~/.local/lib/python3.8/site-packages/astropy/coordinates/sky_coordinate.py\u001b[0m in \u001b[0;36mtransform_to\u001b[0;34m(self, frame, merge_attributes)\u001b[0m\n\u001b[1;32m    617\u001b[0m         \u001b[0;31m# Do the transformation, returning a coordinate frame of the desired\u001b[0m\u001b[0;34m\u001b[0m\u001b[0;34m\u001b[0m\u001b[0;34m\u001b[0m\u001b[0m\n\u001b[1;32m    618\u001b[0m         \u001b[0;31m# final type (not generic).\u001b[0m\u001b[0;34m\u001b[0m\u001b[0;34m\u001b[0m\u001b[0;34m\u001b[0m\u001b[0m\n\u001b[0;32m--> 619\u001b[0;31m         \u001b[0mnew_coord\u001b[0m \u001b[0;34m=\u001b[0m \u001b[0mtrans\u001b[0m\u001b[0;34m(\u001b[0m\u001b[0mself\u001b[0m\u001b[0;34m.\u001b[0m\u001b[0mframe\u001b[0m\u001b[0;34m,\u001b[0m \u001b[0mgeneric_frame\u001b[0m\u001b[0;34m)\u001b[0m\u001b[0;34m\u001b[0m\u001b[0;34m\u001b[0m\u001b[0m\n\u001b[0m\u001b[1;32m    620\u001b[0m \u001b[0;34m\u001b[0m\u001b[0m\n\u001b[1;32m    621\u001b[0m         \u001b[0;31m# Finally make the new SkyCoord object from the `new_coord` and\u001b[0m\u001b[0;34m\u001b[0m\u001b[0;34m\u001b[0m\u001b[0;34m\u001b[0m\u001b[0m\n",
      "\u001b[0;32m~/.local/lib/python3.8/site-packages/astropy/coordinates/transformations.py\u001b[0m in \u001b[0;36m__call__\u001b[0;34m(self, fromcoord, toframe)\u001b[0m\n\u001b[1;32m   1421\u001b[0m \u001b[0;34m\u001b[0m\u001b[0m\n\u001b[1;32m   1422\u001b[0m             \u001b[0mcurr_toframe\u001b[0m \u001b[0;34m=\u001b[0m \u001b[0mt\u001b[0m\u001b[0;34m.\u001b[0m\u001b[0mtosys\u001b[0m\u001b[0;34m(\u001b[0m\u001b[0;34m**\u001b[0m\u001b[0mfrattrs\u001b[0m\u001b[0;34m)\u001b[0m\u001b[0;34m\u001b[0m\u001b[0;34m\u001b[0m\u001b[0m\n\u001b[0;32m-> 1423\u001b[0;31m             \u001b[0mcurr_coord\u001b[0m \u001b[0;34m=\u001b[0m \u001b[0mt\u001b[0m\u001b[0;34m(\u001b[0m\u001b[0mcurr_coord\u001b[0m\u001b[0;34m,\u001b[0m \u001b[0mcurr_toframe\u001b[0m\u001b[0;34m)\u001b[0m\u001b[0;34m\u001b[0m\u001b[0;34m\u001b[0m\u001b[0m\n\u001b[0m\u001b[1;32m   1424\u001b[0m \u001b[0;34m\u001b[0m\u001b[0m\n\u001b[1;32m   1425\u001b[0m         \u001b[0;31m# this is safe even in the case where self.transforms is empty, because\u001b[0m\u001b[0;34m\u001b[0m\u001b[0;34m\u001b[0m\u001b[0;34m\u001b[0m\u001b[0m\n",
      "\u001b[0;32m~/.local/lib/python3.8/site-packages/astropy/coordinates/transformations.py\u001b[0m in \u001b[0;36m__call__\u001b[0;34m(self, fromcoord, toframe)\u001b[0m\n\u001b[1;32m   1340\u001b[0m     \u001b[0;32mdef\u001b[0m \u001b[0m__call__\u001b[0m\u001b[0;34m(\u001b[0m\u001b[0mself\u001b[0m\u001b[0;34m,\u001b[0m \u001b[0mfromcoord\u001b[0m\u001b[0;34m,\u001b[0m \u001b[0mtoframe\u001b[0m\u001b[0;34m)\u001b[0m\u001b[0;34m:\u001b[0m\u001b[0;34m\u001b[0m\u001b[0;34m\u001b[0m\u001b[0m\n\u001b[1;32m   1341\u001b[0m         \u001b[0mM\u001b[0m \u001b[0;34m=\u001b[0m \u001b[0mself\u001b[0m\u001b[0;34m.\u001b[0m\u001b[0mmatrix_func\u001b[0m\u001b[0;34m(\u001b[0m\u001b[0mfromcoord\u001b[0m\u001b[0;34m,\u001b[0m \u001b[0mtoframe\u001b[0m\u001b[0;34m)\u001b[0m\u001b[0;34m\u001b[0m\u001b[0;34m\u001b[0m\u001b[0m\n\u001b[0;32m-> 1342\u001b[0;31m         \u001b[0mnewrep\u001b[0m \u001b[0;34m=\u001b[0m \u001b[0mself\u001b[0m\u001b[0;34m.\u001b[0m\u001b[0m_apply_transform\u001b[0m\u001b[0;34m(\u001b[0m\u001b[0mfromcoord\u001b[0m\u001b[0;34m,\u001b[0m \u001b[0mM\u001b[0m\u001b[0;34m,\u001b[0m \u001b[0;32mNone\u001b[0m\u001b[0;34m)\u001b[0m\u001b[0;34m\u001b[0m\u001b[0;34m\u001b[0m\u001b[0m\n\u001b[0m\u001b[1;32m   1343\u001b[0m         \u001b[0;32mreturn\u001b[0m \u001b[0mtoframe\u001b[0m\u001b[0;34m.\u001b[0m\u001b[0mrealize_frame\u001b[0m\u001b[0;34m(\u001b[0m\u001b[0mnewrep\u001b[0m\u001b[0;34m)\u001b[0m\u001b[0;34m\u001b[0m\u001b[0;34m\u001b[0m\u001b[0m\n\u001b[1;32m   1344\u001b[0m \u001b[0;34m\u001b[0m\u001b[0m\n",
      "\u001b[0;32m~/.local/lib/python3.8/site-packages/astropy/coordinates/transformations.py\u001b[0m in \u001b[0;36m_apply_transform\u001b[0;34m(self, fromcoord, matrix, offset)\u001b[0m\n\u001b[1;32m   1162\u001b[0m                 \u001b[0mdiffs\u001b[0m \u001b[0;34m=\u001b[0m \u001b[0mnewrep\u001b[0m\u001b[0;34m.\u001b[0m\u001b[0mdifferentials\u001b[0m\u001b[0;34m\u001b[0m\u001b[0;34m\u001b[0m\u001b[0m\n\u001b[1;32m   1163\u001b[0m \u001b[0;34m\u001b[0m\u001b[0m\n\u001b[0;32m-> 1164\u001b[0;31m             \u001b[0mnewrep\u001b[0m \u001b[0;34m=\u001b[0m \u001b[0mnewrep\u001b[0m\u001b[0;34m.\u001b[0m\u001b[0mrepresent_as\u001b[0m\u001b[0;34m(\u001b[0m\u001b[0mfromcoord\u001b[0m\u001b[0;34m.\u001b[0m\u001b[0mdata\u001b[0m\u001b[0;34m.\u001b[0m\u001b[0m__class__\u001b[0m\u001b[0;34m)\u001b[0m  \u001b[0;31m# drops diffs\u001b[0m\u001b[0;34m\u001b[0m\u001b[0;34m\u001b[0m\u001b[0m\n\u001b[0m\u001b[1;32m   1165\u001b[0m             \u001b[0mnewrep\u001b[0m \u001b[0;34m=\u001b[0m \u001b[0mnewrep\u001b[0m\u001b[0;34m.\u001b[0m\u001b[0mwith_differentials\u001b[0m\u001b[0;34m(\u001b[0m\u001b[0mdiffs\u001b[0m\u001b[0;34m)\u001b[0m\u001b[0;34m\u001b[0m\u001b[0;34m\u001b[0m\u001b[0m\n\u001b[1;32m   1166\u001b[0m \u001b[0;34m\u001b[0m\u001b[0m\n",
      "\u001b[0;32m~/.local/lib/python3.8/site-packages/astropy/coordinates/representation.py\u001b[0m in \u001b[0;36mrepresent_as\u001b[0;34m(self, other_class, differential_class)\u001b[0m\n\u001b[1;32m    900\u001b[0m             \u001b[0;32mif\u001b[0m \u001b[0mother_class\u001b[0m \u001b[0;32mis\u001b[0m \u001b[0;32mnot\u001b[0m \u001b[0mself\u001b[0m\u001b[0;34m.\u001b[0m\u001b[0m__class__\u001b[0m\u001b[0;34m:\u001b[0m\u001b[0;34m\u001b[0m\u001b[0;34m\u001b[0m\u001b[0m\n\u001b[1;32m    901\u001b[0m                 \u001b[0;31m# The default is to convert via cartesian coordinates\u001b[0m\u001b[0;34m\u001b[0m\u001b[0;34m\u001b[0m\u001b[0;34m\u001b[0m\u001b[0m\n\u001b[0;32m--> 902\u001b[0;31m                 \u001b[0mnew_rep\u001b[0m \u001b[0;34m=\u001b[0m \u001b[0mother_class\u001b[0m\u001b[0;34m.\u001b[0m\u001b[0mfrom_cartesian\u001b[0m\u001b[0;34m(\u001b[0m\u001b[0mself\u001b[0m\u001b[0;34m.\u001b[0m\u001b[0mto_cartesian\u001b[0m\u001b[0;34m(\u001b[0m\u001b[0;34m)\u001b[0m\u001b[0;34m)\u001b[0m\u001b[0;34m\u001b[0m\u001b[0;34m\u001b[0m\u001b[0m\n\u001b[0m\u001b[1;32m    903\u001b[0m             \u001b[0;32melse\u001b[0m\u001b[0;34m:\u001b[0m\u001b[0;34m\u001b[0m\u001b[0;34m\u001b[0m\u001b[0m\n\u001b[1;32m    904\u001b[0m                 \u001b[0mnew_rep\u001b[0m \u001b[0;34m=\u001b[0m \u001b[0mself\u001b[0m\u001b[0;34m\u001b[0m\u001b[0;34m\u001b[0m\u001b[0m\n",
      "\u001b[0;32m~/.local/lib/python3.8/site-packages/astropy/coordinates/representation.py\u001b[0m in \u001b[0;36mfrom_cartesian\u001b[0;34m(cls, cart)\u001b[0m\n\u001b[1;32m   1617\u001b[0m         \u001b[0mp\u001b[0m \u001b[0;34m=\u001b[0m \u001b[0mcart\u001b[0m\u001b[0;34m.\u001b[0m\u001b[0mget_xyz\u001b[0m\u001b[0;34m(\u001b[0m\u001b[0mxyz_axis\u001b[0m\u001b[0;34m=\u001b[0m\u001b[0;34m-\u001b[0m\u001b[0;36m1\u001b[0m\u001b[0;34m)\u001b[0m\u001b[0;34m\u001b[0m\u001b[0;34m\u001b[0m\u001b[0m\n\u001b[1;32m   1618\u001b[0m         \u001b[0;31m# erfa c2s: P-vector to [unit]spherical coordinates.\u001b[0m\u001b[0;34m\u001b[0m\u001b[0;34m\u001b[0m\u001b[0;34m\u001b[0m\u001b[0m\n\u001b[0;32m-> 1619\u001b[0;31m         \u001b[0;32mreturn\u001b[0m \u001b[0mcls\u001b[0m\u001b[0;34m(\u001b[0m\u001b[0;34m*\u001b[0m\u001b[0merfa_ufunc\u001b[0m\u001b[0;34m.\u001b[0m\u001b[0mc2s\u001b[0m\u001b[0;34m(\u001b[0m\u001b[0mp\u001b[0m\u001b[0;34m)\u001b[0m\u001b[0;34m,\u001b[0m \u001b[0mcopy\u001b[0m\u001b[0;34m=\u001b[0m\u001b[0;32mFalse\u001b[0m\u001b[0;34m)\u001b[0m\u001b[0;34m\u001b[0m\u001b[0;34m\u001b[0m\u001b[0m\n\u001b[0m\u001b[1;32m   1620\u001b[0m \u001b[0;34m\u001b[0m\u001b[0m\n\u001b[1;32m   1621\u001b[0m     \u001b[0;32mdef\u001b[0m \u001b[0mrepresent_as\u001b[0m\u001b[0;34m(\u001b[0m\u001b[0mself\u001b[0m\u001b[0;34m,\u001b[0m \u001b[0mother_class\u001b[0m\u001b[0;34m,\u001b[0m \u001b[0mdifferential_class\u001b[0m\u001b[0;34m=\u001b[0m\u001b[0;32mNone\u001b[0m\u001b[0;34m)\u001b[0m\u001b[0;34m:\u001b[0m\u001b[0;34m\u001b[0m\u001b[0;34m\u001b[0m\u001b[0m\n",
      "\u001b[0;32m~/.local/lib/python3.8/site-packages/astropy/coordinates/representation.py\u001b[0m in \u001b[0;36m__init__\u001b[0;34m(self, lon, lat, differentials, copy)\u001b[0m\n\u001b[1;32m   1559\u001b[0m \u001b[0;34m\u001b[0m\u001b[0m\n\u001b[1;32m   1560\u001b[0m     \u001b[0;32mdef\u001b[0m \u001b[0m__init__\u001b[0m\u001b[0;34m(\u001b[0m\u001b[0mself\u001b[0m\u001b[0;34m,\u001b[0m \u001b[0mlon\u001b[0m\u001b[0;34m,\u001b[0m \u001b[0mlat\u001b[0m\u001b[0;34m=\u001b[0m\u001b[0;32mNone\u001b[0m\u001b[0;34m,\u001b[0m \u001b[0mdifferentials\u001b[0m\u001b[0;34m=\u001b[0m\u001b[0;32mNone\u001b[0m\u001b[0;34m,\u001b[0m \u001b[0mcopy\u001b[0m\u001b[0;34m=\u001b[0m\u001b[0;32mTrue\u001b[0m\u001b[0;34m)\u001b[0m\u001b[0;34m:\u001b[0m\u001b[0;34m\u001b[0m\u001b[0;34m\u001b[0m\u001b[0m\n\u001b[0;32m-> 1561\u001b[0;31m         \u001b[0msuper\u001b[0m\u001b[0;34m(\u001b[0m\u001b[0;34m)\u001b[0m\u001b[0;34m.\u001b[0m\u001b[0m__init__\u001b[0m\u001b[0;34m(\u001b[0m\u001b[0mlon\u001b[0m\u001b[0;34m,\u001b[0m \u001b[0mlat\u001b[0m\u001b[0;34m,\u001b[0m \u001b[0mdifferentials\u001b[0m\u001b[0;34m=\u001b[0m\u001b[0mdifferentials\u001b[0m\u001b[0;34m,\u001b[0m \u001b[0mcopy\u001b[0m\u001b[0;34m=\u001b[0m\u001b[0mcopy\u001b[0m\u001b[0;34m)\u001b[0m\u001b[0;34m\u001b[0m\u001b[0;34m\u001b[0m\u001b[0m\n\u001b[0m\u001b[1;32m   1562\u001b[0m \u001b[0;34m\u001b[0m\u001b[0m\n\u001b[1;32m   1563\u001b[0m     \u001b[0;34m@\u001b[0m\u001b[0mproperty\u001b[0m\u001b[0;34m\u001b[0m\u001b[0;34m\u001b[0m\u001b[0m\n",
      "\u001b[0;32m~/.local/lib/python3.8/site-packages/astropy/coordinates/representation.py\u001b[0m in \u001b[0;36m__init__\u001b[0;34m(self, differentials, *args, **kwargs)\u001b[0m\n\u001b[1;32m    695\u001b[0m     \u001b[0;32mdef\u001b[0m \u001b[0m__init__\u001b[0m\u001b[0;34m(\u001b[0m\u001b[0mself\u001b[0m\u001b[0;34m,\u001b[0m \u001b[0;34m*\u001b[0m\u001b[0margs\u001b[0m\u001b[0;34m,\u001b[0m \u001b[0mdifferentials\u001b[0m\u001b[0;34m=\u001b[0m\u001b[0;32mNone\u001b[0m\u001b[0;34m,\u001b[0m \u001b[0;34m**\u001b[0m\u001b[0mkwargs\u001b[0m\u001b[0;34m)\u001b[0m\u001b[0;34m:\u001b[0m\u001b[0;34m\u001b[0m\u001b[0;34m\u001b[0m\u001b[0m\n\u001b[1;32m    696\u001b[0m         \u001b[0;31m# Handle any differentials passed in.\u001b[0m\u001b[0;34m\u001b[0m\u001b[0;34m\u001b[0m\u001b[0;34m\u001b[0m\u001b[0m\n\u001b[0;32m--> 697\u001b[0;31m         \u001b[0msuper\u001b[0m\u001b[0;34m(\u001b[0m\u001b[0;34m)\u001b[0m\u001b[0;34m.\u001b[0m\u001b[0m__init__\u001b[0m\u001b[0;34m(\u001b[0m\u001b[0;34m*\u001b[0m\u001b[0margs\u001b[0m\u001b[0;34m,\u001b[0m \u001b[0;34m**\u001b[0m\u001b[0mkwargs\u001b[0m\u001b[0;34m)\u001b[0m\u001b[0;34m\u001b[0m\u001b[0;34m\u001b[0m\u001b[0m\n\u001b[0m\u001b[1;32m    698\u001b[0m         if (differentials is None\n\u001b[1;32m    699\u001b[0m                 and args and isinstance(args[0], self.__class__)):\n",
      "\u001b[0;32m~/.local/lib/python3.8/site-packages/astropy/coordinates/representation.py\u001b[0m in \u001b[0;36m__init__\u001b[0;34m(self, *args, **kwargs)\u001b[0m\n\u001b[1;32m    258\u001b[0m \u001b[0;34m\u001b[0m\u001b[0m\n\u001b[1;32m    259\u001b[0m         \u001b[0;31m# Pass attributes through the required initializing classes.\u001b[0m\u001b[0;34m\u001b[0m\u001b[0;34m\u001b[0m\u001b[0;34m\u001b[0m\u001b[0m\n\u001b[0;32m--> 260\u001b[0;31m         attrs = [self.attr_classes[component](attr, copy=False)\n\u001b[0m\u001b[1;32m    261\u001b[0m                  for component, attr in zip(components, attrs)]\n\u001b[1;32m    262\u001b[0m         \u001b[0;32mtry\u001b[0m\u001b[0;34m:\u001b[0m\u001b[0;34m\u001b[0m\u001b[0;34m\u001b[0m\u001b[0m\n",
      "\u001b[0;32m~/.local/lib/python3.8/site-packages/astropy/coordinates/representation.py\u001b[0m in \u001b[0;36m<listcomp>\u001b[0;34m(.0)\u001b[0m\n\u001b[1;32m    258\u001b[0m \u001b[0;34m\u001b[0m\u001b[0m\n\u001b[1;32m    259\u001b[0m         \u001b[0;31m# Pass attributes through the required initializing classes.\u001b[0m\u001b[0;34m\u001b[0m\u001b[0;34m\u001b[0m\u001b[0;34m\u001b[0m\u001b[0m\n\u001b[0;32m--> 260\u001b[0;31m         attrs = [self.attr_classes[component](attr, copy=False)\n\u001b[0m\u001b[1;32m    261\u001b[0m                  for component, attr in zip(components, attrs)]\n\u001b[1;32m    262\u001b[0m         \u001b[0;32mtry\u001b[0m\u001b[0;34m:\u001b[0m\u001b[0;34m\u001b[0m\u001b[0;34m\u001b[0m\u001b[0m\n",
      "\u001b[0;32m~/.local/lib/python3.8/site-packages/astropy/coordinates/angles.py\u001b[0m in \u001b[0;36m__new__\u001b[0;34m(cls, angle, unit, wrap_angle, **kwargs)\u001b[0m\n\u001b[1;32m    643\u001b[0m         \u001b[0;32mif\u001b[0m \u001b[0mwrap_angle\u001b[0m \u001b[0;32mis\u001b[0m \u001b[0;32mNone\u001b[0m\u001b[0;34m:\u001b[0m\u001b[0;34m\u001b[0m\u001b[0;34m\u001b[0m\u001b[0m\n\u001b[1;32m    644\u001b[0m             \u001b[0mwrap_angle\u001b[0m \u001b[0;34m=\u001b[0m \u001b[0mgetattr\u001b[0m\u001b[0;34m(\u001b[0m\u001b[0mangle\u001b[0m\u001b[0;34m,\u001b[0m \u001b[0;34m'wrap_angle'\u001b[0m\u001b[0;34m,\u001b[0m \u001b[0mself\u001b[0m\u001b[0;34m.\u001b[0m\u001b[0m_default_wrap_angle\u001b[0m\u001b[0;34m)\u001b[0m\u001b[0;34m\u001b[0m\u001b[0;34m\u001b[0m\u001b[0m\n\u001b[0;32m--> 645\u001b[0;31m         \u001b[0mself\u001b[0m\u001b[0;34m.\u001b[0m\u001b[0mwrap_angle\u001b[0m \u001b[0;34m=\u001b[0m \u001b[0mwrap_angle\u001b[0m\u001b[0;34m\u001b[0m\u001b[0;34m\u001b[0m\u001b[0m\n\u001b[0m\u001b[1;32m    646\u001b[0m         \u001b[0;32mreturn\u001b[0m \u001b[0mself\u001b[0m\u001b[0;34m\u001b[0m\u001b[0;34m\u001b[0m\u001b[0m\n\u001b[1;32m    647\u001b[0m \u001b[0;34m\u001b[0m\u001b[0m\n",
      "\u001b[0;32m~/.local/lib/python3.8/site-packages/astropy/coordinates/angles.py\u001b[0m in \u001b[0;36mwrap_angle\u001b[0;34m(self, value)\u001b[0m\n\u001b[1;32m    682\u001b[0m     \u001b[0;32mdef\u001b[0m \u001b[0mwrap_angle\u001b[0m\u001b[0;34m(\u001b[0m\u001b[0mself\u001b[0m\u001b[0;34m,\u001b[0m \u001b[0mvalue\u001b[0m\u001b[0;34m)\u001b[0m\u001b[0;34m:\u001b[0m\u001b[0;34m\u001b[0m\u001b[0;34m\u001b[0m\u001b[0m\n\u001b[1;32m    683\u001b[0m         \u001b[0mself\u001b[0m\u001b[0;34m.\u001b[0m\u001b[0m_wrap_angle\u001b[0m \u001b[0;34m=\u001b[0m \u001b[0mAngle\u001b[0m\u001b[0;34m(\u001b[0m\u001b[0mvalue\u001b[0m\u001b[0;34m,\u001b[0m \u001b[0mcopy\u001b[0m\u001b[0;34m=\u001b[0m\u001b[0;32mFalse\u001b[0m\u001b[0;34m)\u001b[0m\u001b[0;34m\u001b[0m\u001b[0;34m\u001b[0m\u001b[0m\n\u001b[0;32m--> 684\u001b[0;31m         \u001b[0mself\u001b[0m\u001b[0;34m.\u001b[0m\u001b[0m_wrap_internal\u001b[0m\u001b[0;34m(\u001b[0m\u001b[0;34m)\u001b[0m\u001b[0;34m\u001b[0m\u001b[0;34m\u001b[0m\u001b[0m\n\u001b[0m\u001b[1;32m    685\u001b[0m \u001b[0;34m\u001b[0m\u001b[0m\n\u001b[1;32m    686\u001b[0m     \u001b[0;32mdef\u001b[0m \u001b[0m__array_finalize__\u001b[0m\u001b[0;34m(\u001b[0m\u001b[0mself\u001b[0m\u001b[0;34m,\u001b[0m \u001b[0mobj\u001b[0m\u001b[0;34m)\u001b[0m\u001b[0;34m:\u001b[0m\u001b[0;34m\u001b[0m\u001b[0;34m\u001b[0m\u001b[0m\n",
      "\u001b[0;32m~/.local/lib/python3.8/site-packages/astropy/coordinates/angles.py\u001b[0m in \u001b[0;36m_wrap_internal\u001b[0;34m(self)\u001b[0m\n\u001b[1;32m    663\u001b[0m         \u001b[0;31m# than Quantity objects for speed.\u001b[0m\u001b[0;34m\u001b[0m\u001b[0;34m\u001b[0m\u001b[0;34m\u001b[0m\u001b[0m\n\u001b[1;32m    664\u001b[0m         \u001b[0ma360\u001b[0m \u001b[0;34m=\u001b[0m \u001b[0mu\u001b[0m\u001b[0;34m.\u001b[0m\u001b[0mdegree\u001b[0m\u001b[0;34m.\u001b[0m\u001b[0mto\u001b[0m\u001b[0;34m(\u001b[0m\u001b[0mself\u001b[0m\u001b[0;34m.\u001b[0m\u001b[0munit\u001b[0m\u001b[0;34m,\u001b[0m \u001b[0;36m360.0\u001b[0m\u001b[0;34m)\u001b[0m\u001b[0;34m\u001b[0m\u001b[0;34m\u001b[0m\u001b[0m\n\u001b[0;32m--> 665\u001b[0;31m         \u001b[0mwrap_angle\u001b[0m \u001b[0;34m=\u001b[0m \u001b[0mself\u001b[0m\u001b[0;34m.\u001b[0m\u001b[0mwrap_angle\u001b[0m\u001b[0;34m.\u001b[0m\u001b[0mto_value\u001b[0m\u001b[0;34m(\u001b[0m\u001b[0mself\u001b[0m\u001b[0;34m.\u001b[0m\u001b[0munit\u001b[0m\u001b[0;34m)\u001b[0m\u001b[0;34m\u001b[0m\u001b[0;34m\u001b[0m\u001b[0m\n\u001b[0m\u001b[1;32m    666\u001b[0m         \u001b[0mwrap_angle_floor\u001b[0m \u001b[0;34m=\u001b[0m \u001b[0mwrap_angle\u001b[0m \u001b[0;34m-\u001b[0m \u001b[0ma360\u001b[0m\u001b[0;34m\u001b[0m\u001b[0;34m\u001b[0m\u001b[0m\n\u001b[1;32m    667\u001b[0m         \u001b[0mself_angle\u001b[0m \u001b[0;34m=\u001b[0m \u001b[0mself\u001b[0m\u001b[0;34m.\u001b[0m\u001b[0mvalue\u001b[0m\u001b[0;34m\u001b[0m\u001b[0;34m\u001b[0m\u001b[0m\n",
      "\u001b[0;32m~/.local/lib/python3.8/site-packages/astropy/units/quantity.py\u001b[0m in \u001b[0;36mto_value\u001b[0;34m(self, unit, equivalencies)\u001b[0m\n\u001b[1;32m    746\u001b[0m                 \u001b[0;32mif\u001b[0m \u001b[0;32mnot\u001b[0m \u001b[0mis_effectively_unity\u001b[0m\u001b[0;34m(\u001b[0m\u001b[0mscale\u001b[0m\u001b[0;34m)\u001b[0m\u001b[0;34m:\u001b[0m\u001b[0;34m\u001b[0m\u001b[0;34m\u001b[0m\u001b[0m\n\u001b[1;32m    747\u001b[0m                     \u001b[0;31m# not in-place!\u001b[0m\u001b[0;34m\u001b[0m\u001b[0;34m\u001b[0m\u001b[0;34m\u001b[0m\u001b[0m\n\u001b[0;32m--> 748\u001b[0;31m                     \u001b[0mvalue\u001b[0m \u001b[0;34m=\u001b[0m \u001b[0mvalue\u001b[0m \u001b[0;34m*\u001b[0m \u001b[0mscale\u001b[0m\u001b[0;34m\u001b[0m\u001b[0;34m\u001b[0m\u001b[0m\n\u001b[0m\u001b[1;32m    749\u001b[0m \u001b[0;34m\u001b[0m\u001b[0m\n\u001b[1;32m    750\u001b[0m         \u001b[0;31m# Index with empty tuple to decay array scalars in to numpy scalars.\u001b[0m\u001b[0;34m\u001b[0m\u001b[0;34m\u001b[0m\u001b[0;34m\u001b[0m\u001b[0m\n",
      "\u001b[0;31mKeyboardInterrupt\u001b[0m: "
     ]
    }
   ],
   "source": [
    "data['b'] = data.apply(lambda x: choose_coord(x[\"ra_obs\"], x[\"dec_obs\"]), axis=1)"
   ]
  },
  {
   "cell_type": "code",
   "execution_count": 9,
   "id": "6cd973cd",
   "metadata": {
    "ExecuteTime": {
     "end_time": "2022-05-22T14:13:44.561212Z",
     "start_time": "2022-05-22T14:13:44.475141Z"
    }
   },
   "outputs": [
    {
     "data": {
      "text/html": [
       "<div>\n",
       "<style scoped>\n",
       "    .dataframe tbody tr th:only-of-type {\n",
       "        vertical-align: middle;\n",
       "    }\n",
       "\n",
       "    .dataframe tbody tr th {\n",
       "        vertical-align: top;\n",
       "    }\n",
       "\n",
       "    .dataframe thead th {\n",
       "        text-align: right;\n",
       "    }\n",
       "</style>\n",
       "<table border=\"1\" class=\"dataframe\">\n",
       "  <thead>\n",
       "    <tr style=\"text-align: right;\">\n",
       "      <th></th>\n",
       "      <th>obsid</th>\n",
       "      <th>gp_id</th>\n",
       "      <th>lmjd</th>\n",
       "      <th>mjd</th>\n",
       "      <th>spid</th>\n",
       "      <th>fiberid</th>\n",
       "      <th>ra_obs</th>\n",
       "      <th>dec_obs</th>\n",
       "      <th>snru</th>\n",
       "      <th>snrg</th>\n",
       "      <th>...</th>\n",
       "      <th>gaia_g_mean_mag</th>\n",
       "      <th>offsets</th>\n",
       "      <th>offsets_v</th>\n",
       "      <th>ra</th>\n",
       "      <th>dec</th>\n",
       "      <th>teff</th>\n",
       "      <th>teff_err</th>\n",
       "      <th>logg</th>\n",
       "      <th>logg_err</th>\n",
       "      <th>b</th>\n",
       "    </tr>\n",
       "  </thead>\n",
       "  <tbody>\n",
       "    <tr>\n",
       "      <th>count</th>\n",
       "      <td>4.158000e+03</td>\n",
       "      <td>4.158000e+03</td>\n",
       "      <td>4158.000000</td>\n",
       "      <td>4158.000000</td>\n",
       "      <td>4158.000000</td>\n",
       "      <td>4158.000000</td>\n",
       "      <td>4158.000000</td>\n",
       "      <td>4158.000000</td>\n",
       "      <td>4158.000000</td>\n",
       "      <td>4158.000000</td>\n",
       "      <td>...</td>\n",
       "      <td>4151.000000</td>\n",
       "      <td>4158.000000</td>\n",
       "      <td>4158.000000</td>\n",
       "      <td>4158.000000</td>\n",
       "      <td>4158.000000</td>\n",
       "      <td>4158.000000</td>\n",
       "      <td>4158.000000</td>\n",
       "      <td>4158.000000</td>\n",
       "      <td>4158.000000</td>\n",
       "      <td>4158.000000</td>\n",
       "    </tr>\n",
       "    <tr>\n",
       "      <th>mean</th>\n",
       "      <td>4.345419e+08</td>\n",
       "      <td>1.916114e+18</td>\n",
       "      <td>57466.049062</td>\n",
       "      <td>57465.049062</td>\n",
       "      <td>8.462001</td>\n",
       "      <td>124.081530</td>\n",
       "      <td>186.742116</td>\n",
       "      <td>28.240781</td>\n",
       "      <td>-13.057802</td>\n",
       "      <td>-1.231332</td>\n",
       "      <td>...</td>\n",
       "      <td>-62.020288</td>\n",
       "      <td>0.002165</td>\n",
       "      <td>0.007314</td>\n",
       "      <td>186.742114</td>\n",
       "      <td>28.240782</td>\n",
       "      <td>15177.938177</td>\n",
       "      <td>-1982.695527</td>\n",
       "      <td>-2492.610432</td>\n",
       "      <td>-2498.465367</td>\n",
       "      <td>62.229907</td>\n",
       "    </tr>\n",
       "    <tr>\n",
       "      <th>std</th>\n",
       "      <td>2.224723e+08</td>\n",
       "      <td>1.359444e+18</td>\n",
       "      <td>814.128151</td>\n",
       "      <td>814.128151</td>\n",
       "      <td>4.460758</td>\n",
       "      <td>71.489132</td>\n",
       "      <td>28.436685</td>\n",
       "      <td>16.020332</td>\n",
       "      <td>438.640257</td>\n",
       "      <td>411.191561</td>\n",
       "      <td>...</td>\n",
       "      <td>889.653999</td>\n",
       "      <td>0.046479</td>\n",
       "      <td>0.172130</td>\n",
       "      <td>28.436684</td>\n",
       "      <td>16.020332</td>\n",
       "      <td>17018.696660</td>\n",
       "      <td>4486.947057</td>\n",
       "      <td>4332.947424</td>\n",
       "      <td>4329.567777</td>\n",
       "      <td>10.766452</td>\n",
       "    </tr>\n",
       "    <tr>\n",
       "      <th>min</th>\n",
       "      <td>8.106134e+06</td>\n",
       "      <td>1.831024e+07</td>\n",
       "      <td>55892.000000</td>\n",
       "      <td>55891.000000</td>\n",
       "      <td>1.000000</td>\n",
       "      <td>1.000000</td>\n",
       "      <td>140.514010</td>\n",
       "      <td>-8.243798</td>\n",
       "      <td>-9999.000000</td>\n",
       "      <td>-9999.000000</td>\n",
       "      <td>...</td>\n",
       "      <td>-9999.000000</td>\n",
       "      <td>0.000000</td>\n",
       "      <td>0.000000</td>\n",
       "      <td>140.514010</td>\n",
       "      <td>-8.243798</td>\n",
       "      <td>-9999.000000</td>\n",
       "      <td>-9999.000000</td>\n",
       "      <td>-9999.000000</td>\n",
       "      <td>-9999.000000</td>\n",
       "      <td>45.010620</td>\n",
       "    </tr>\n",
       "    <tr>\n",
       "      <th>25%</th>\n",
       "      <td>2.844373e+08</td>\n",
       "      <td>8.049410e+17</td>\n",
       "      <td>57015.000000</td>\n",
       "      <td>57014.000000</td>\n",
       "      <td>5.000000</td>\n",
       "      <td>63.000000</td>\n",
       "      <td>161.238160</td>\n",
       "      <td>16.952820</td>\n",
       "      <td>1.060000</td>\n",
       "      <td>4.080000</td>\n",
       "      <td>...</td>\n",
       "      <td>16.666653</td>\n",
       "      <td>0.000000</td>\n",
       "      <td>0.000000</td>\n",
       "      <td>161.238160</td>\n",
       "      <td>16.952820</td>\n",
       "      <td>9280.430000</td>\n",
       "      <td>46.280000</td>\n",
       "      <td>6.604000</td>\n",
       "      <td>0.004250</td>\n",
       "      <td>53.470856</td>\n",
       "    </tr>\n",
       "    <tr>\n",
       "      <th>50%</th>\n",
       "      <td>4.371032e+08</td>\n",
       "      <td>1.394487e+18</td>\n",
       "      <td>57457.000000</td>\n",
       "      <td>57456.000000</td>\n",
       "      <td>8.000000</td>\n",
       "      <td>122.000000</td>\n",
       "      <td>185.891330</td>\n",
       "      <td>29.750925</td>\n",
       "      <td>2.290000</td>\n",
       "      <td>7.865000</td>\n",
       "      <td>...</td>\n",
       "      <td>17.860548</td>\n",
       "      <td>0.000000</td>\n",
       "      <td>0.000000</td>\n",
       "      <td>185.891330</td>\n",
       "      <td>29.750925</td>\n",
       "      <td>17203.845000</td>\n",
       "      <td>212.735000</td>\n",
       "      <td>7.691000</td>\n",
       "      <td>0.037000</td>\n",
       "      <td>60.899838</td>\n",
       "    </tr>\n",
       "    <tr>\n",
       "      <th>75%</th>\n",
       "      <td>5.841161e+08</td>\n",
       "      <td>3.702837e+18</td>\n",
       "      <td>57919.000000</td>\n",
       "      <td>57918.000000</td>\n",
       "      <td>12.000000</td>\n",
       "      <td>185.000000</td>\n",
       "      <td>210.106730</td>\n",
       "      <td>39.224936</td>\n",
       "      <td>5.790000</td>\n",
       "      <td>17.340000</td>\n",
       "      <td>...</td>\n",
       "      <td>18.758817</td>\n",
       "      <td>0.000000</td>\n",
       "      <td>0.000000</td>\n",
       "      <td>210.106730</td>\n",
       "      <td>39.224936</td>\n",
       "      <td>24000.025000</td>\n",
       "      <td>494.302500</td>\n",
       "      <td>8.099000</td>\n",
       "      <td>0.087000</td>\n",
       "      <td>70.182016</td>\n",
       "    </tr>\n",
       "    <tr>\n",
       "      <th>max</th>\n",
       "      <td>8.236161e+08</td>\n",
       "      <td>6.340880e+18</td>\n",
       "      <td>58993.000000</td>\n",
       "      <td>58992.000000</td>\n",
       "      <td>16.000000</td>\n",
       "      <td>250.000000</td>\n",
       "      <td>244.909740</td>\n",
       "      <td>60.650070</td>\n",
       "      <td>131.450000</td>\n",
       "      <td>287.900000</td>\n",
       "      <td>...</td>\n",
       "      <td>20.743979</td>\n",
       "      <td>1.000000</td>\n",
       "      <td>5.090000</td>\n",
       "      <td>244.909740</td>\n",
       "      <td>60.650070</td>\n",
       "      <td>83271.300000</td>\n",
       "      <td>9999.990000</td>\n",
       "      <td>9.962000</td>\n",
       "      <td>35.222000</td>\n",
       "      <td>89.255399</td>\n",
       "    </tr>\n",
       "  </tbody>\n",
       "</table>\n",
       "<p>8 rows × 33 columns</p>\n",
       "</div>"
      ],
      "text/plain": [
       "              obsid         gp_id          lmjd           mjd         spid  \\\n",
       "count  4.158000e+03  4.158000e+03   4158.000000   4158.000000  4158.000000   \n",
       "mean   4.345419e+08  1.916114e+18  57466.049062  57465.049062     8.462001   \n",
       "std    2.224723e+08  1.359444e+18    814.128151    814.128151     4.460758   \n",
       "min    8.106134e+06  1.831024e+07  55892.000000  55891.000000     1.000000   \n",
       "25%    2.844373e+08  8.049410e+17  57015.000000  57014.000000     5.000000   \n",
       "50%    4.371032e+08  1.394487e+18  57457.000000  57456.000000     8.000000   \n",
       "75%    5.841161e+08  3.702837e+18  57919.000000  57918.000000    12.000000   \n",
       "max    8.236161e+08  6.340880e+18  58993.000000  58992.000000    16.000000   \n",
       "\n",
       "           fiberid       ra_obs      dec_obs         snru         snrg  ...  \\\n",
       "count  4158.000000  4158.000000  4158.000000  4158.000000  4158.000000  ...   \n",
       "mean    124.081530   186.742116    28.240781   -13.057802    -1.231332  ...   \n",
       "std      71.489132    28.436685    16.020332   438.640257   411.191561  ...   \n",
       "min       1.000000   140.514010    -8.243798 -9999.000000 -9999.000000  ...   \n",
       "25%      63.000000   161.238160    16.952820     1.060000     4.080000  ...   \n",
       "50%     122.000000   185.891330    29.750925     2.290000     7.865000  ...   \n",
       "75%     185.000000   210.106730    39.224936     5.790000    17.340000  ...   \n",
       "max     250.000000   244.909740    60.650070   131.450000   287.900000  ...   \n",
       "\n",
       "       gaia_g_mean_mag      offsets    offsets_v           ra          dec  \\\n",
       "count      4151.000000  4158.000000  4158.000000  4158.000000  4158.000000   \n",
       "mean        -62.020288     0.002165     0.007314   186.742114    28.240782   \n",
       "std         889.653999     0.046479     0.172130    28.436684    16.020332   \n",
       "min       -9999.000000     0.000000     0.000000   140.514010    -8.243798   \n",
       "25%          16.666653     0.000000     0.000000   161.238160    16.952820   \n",
       "50%          17.860548     0.000000     0.000000   185.891330    29.750925   \n",
       "75%          18.758817     0.000000     0.000000   210.106730    39.224936   \n",
       "max          20.743979     1.000000     5.090000   244.909740    60.650070   \n",
       "\n",
       "               teff     teff_err         logg     logg_err            b  \n",
       "count   4158.000000  4158.000000  4158.000000  4158.000000  4158.000000  \n",
       "mean   15177.938177 -1982.695527 -2492.610432 -2498.465367    62.229907  \n",
       "std    17018.696660  4486.947057  4332.947424  4329.567777    10.766452  \n",
       "min    -9999.000000 -9999.000000 -9999.000000 -9999.000000    45.010620  \n",
       "25%     9280.430000    46.280000     6.604000     0.004250    53.470856  \n",
       "50%    17203.845000   212.735000     7.691000     0.037000    60.899838  \n",
       "75%    24000.025000   494.302500     8.099000     0.087000    70.182016  \n",
       "max    83271.300000  9999.990000     9.962000    35.222000    89.255399  \n",
       "\n",
       "[8 rows x 33 columns]"
      ]
     },
     "execution_count": 9,
     "metadata": {},
     "output_type": "execute_result"
    }
   ],
   "source": [
    "data = data[data['b']>45]\n",
    "data.describe()"
   ]
  },
  {
   "cell_type": "code",
   "execution_count": 2,
   "id": "49cfc622",
   "metadata": {
    "ExecuteTime": {
     "end_time": "2022-06-16T02:59:52.482061Z",
     "start_time": "2022-06-16T02:59:52.435475Z"
    }
   },
   "outputs": [
    {
     "ename": "NameError",
     "evalue": "name 'data' is not defined",
     "output_type": "error",
     "traceback": [
      "\u001b[0;31m---------------------------------------------------------------------------\u001b[0m",
      "\u001b[0;31mNameError\u001b[0m                                 Traceback (most recent call last)",
      "\u001b[0;32m<ipython-input-2-6208d269f320>\u001b[0m in \u001b[0;36m<module>\u001b[0;34m\u001b[0m\n\u001b[0;32m----> 1\u001b[0;31m \u001b[0mdata\u001b[0m\u001b[0;34m.\u001b[0m\u001b[0minfo\u001b[0m\u001b[0;34m(\u001b[0m\u001b[0;34m)\u001b[0m\u001b[0;34m\u001b[0m\u001b[0;34m\u001b[0m\u001b[0m\n\u001b[0m",
      "\u001b[0;31mNameError\u001b[0m: name 'data' is not defined"
     ]
    }
   ],
   "source": [
    "data.info()"
   ]
  },
  {
   "cell_type": "code",
   "execution_count": 55,
   "id": "8345b1bd",
   "metadata": {
    "ExecuteTime": {
     "end_time": "2022-05-22T13:31:32.431584Z",
     "start_time": "2022-05-22T13:31:32.418149Z"
    }
   },
   "outputs": [],
   "source": [
    "a = pd.DataFrame(columns=data.columns)"
   ]
  },
  {
   "cell_type": "code",
   "execution_count": 56,
   "id": "83f15d7b",
   "metadata": {
    "ExecuteTime": {
     "end_time": "2022-05-22T13:31:45.046312Z",
     "start_time": "2022-05-22T13:31:44.992599Z"
    }
   },
   "outputs": [
    {
     "data": {
      "text/html": [
       "<div>\n",
       "<style scoped>\n",
       "    .dataframe tbody tr th:only-of-type {\n",
       "        vertical-align: middle;\n",
       "    }\n",
       "\n",
       "    .dataframe tbody tr th {\n",
       "        vertical-align: top;\n",
       "    }\n",
       "\n",
       "    .dataframe thead th {\n",
       "        text-align: right;\n",
       "    }\n",
       "</style>\n",
       "<table border=\"1\" class=\"dataframe\">\n",
       "  <thead>\n",
       "    <tr style=\"text-align: right;\">\n",
       "      <th></th>\n",
       "      <th>obsid</th>\n",
       "      <th>uid</th>\n",
       "      <th>gp_id</th>\n",
       "      <th>designation</th>\n",
       "      <th>obsdate</th>\n",
       "      <th>lmjd</th>\n",
       "      <th>mjd</th>\n",
       "      <th>planid</th>\n",
       "      <th>spid</th>\n",
       "      <th>fiberid</th>\n",
       "      <th>...</th>\n",
       "      <th>offsets</th>\n",
       "      <th>offsets_v</th>\n",
       "      <th>ra</th>\n",
       "      <th>dec</th>\n",
       "      <th>wd_subclass</th>\n",
       "      <th>teff</th>\n",
       "      <th>teff_err</th>\n",
       "      <th>logg</th>\n",
       "      <th>logg_err</th>\n",
       "      <th>b</th>\n",
       "    </tr>\n",
       "  </thead>\n",
       "  <tbody>\n",
       "    <tr>\n",
       "      <th>0</th>\n",
       "      <td>101076</td>\n",
       "      <td>G12763484624375</td>\n",
       "      <td>2676893926929699200</td>\n",
       "      <td>J220838.58-013731.7</td>\n",
       "      <td>2011-10-24</td>\n",
       "      <td>55859</td>\n",
       "      <td>55858</td>\n",
       "      <td>F5902</td>\n",
       "      <td>1</td>\n",
       "      <td>76</td>\n",
       "      <td>...</td>\n",
       "      <td>0</td>\n",
       "      <td>0.0</td>\n",
       "      <td>332.160763</td>\n",
       "      <td>-1.625490</td>\n",
       "      <td>DA</td>\n",
       "      <td>-9999.00</td>\n",
       "      <td>-9999.00</td>\n",
       "      <td>-9999.000</td>\n",
       "      <td>-9999.000</td>\n",
       "      <td>-43.425168</td>\n",
       "    </tr>\n",
       "    <tr>\n",
       "      <th>1</th>\n",
       "      <td>101151</td>\n",
       "      <td>G12762587004699</td>\n",
       "      <td>2677056689010163456</td>\n",
       "      <td>J220823.66-011534.2</td>\n",
       "      <td>2011-10-24</td>\n",
       "      <td>55859</td>\n",
       "      <td>55858</td>\n",
       "      <td>F5902</td>\n",
       "      <td>1</td>\n",
       "      <td>151</td>\n",
       "      <td>...</td>\n",
       "      <td>0</td>\n",
       "      <td>0.0</td>\n",
       "      <td>332.098588</td>\n",
       "      <td>-1.259508</td>\n",
       "      <td>DA</td>\n",
       "      <td>24000.00</td>\n",
       "      <td>672.02</td>\n",
       "      <td>8.263</td>\n",
       "      <td>0.076</td>\n",
       "      <td>-43.154923</td>\n",
       "    </tr>\n",
       "    <tr>\n",
       "      <th>2</th>\n",
       "      <td>112211</td>\n",
       "      <td>G13351718912434</td>\n",
       "      <td>2679476512239443328</td>\n",
       "      <td>J221640.39+012741.2</td>\n",
       "      <td>2011-10-24</td>\n",
       "      <td>55859</td>\n",
       "      <td>55858</td>\n",
       "      <td>F5902</td>\n",
       "      <td>12</td>\n",
       "      <td>211</td>\n",
       "      <td>...</td>\n",
       "      <td>0</td>\n",
       "      <td>0.0</td>\n",
       "      <td>334.168324</td>\n",
       "      <td>1.461445</td>\n",
       "      <td>DA</td>\n",
       "      <td>17122.64</td>\n",
       "      <td>221.39</td>\n",
       "      <td>7.933</td>\n",
       "      <td>0.037</td>\n",
       "      <td>-43.063161</td>\n",
       "    </tr>\n",
       "    <tr>\n",
       "      <th>3</th>\n",
       "      <td>116148</td>\n",
       "      <td>G13358737732360</td>\n",
       "      <td>2683213511743993472</td>\n",
       "      <td>J220522.86+021837.5</td>\n",
       "      <td>2011-10-24</td>\n",
       "      <td>55859</td>\n",
       "      <td>55858</td>\n",
       "      <td>F5902</td>\n",
       "      <td>16</td>\n",
       "      <td>148</td>\n",
       "      <td>...</td>\n",
       "      <td>0</td>\n",
       "      <td>0.0</td>\n",
       "      <td>331.345250</td>\n",
       "      <td>2.310432</td>\n",
       "      <td>DA</td>\n",
       "      <td>14070.30</td>\n",
       "      <td>215.59</td>\n",
       "      <td>8.063</td>\n",
       "      <td>0.028</td>\n",
       "      <td>-40.352703</td>\n",
       "    </tr>\n",
       "    <tr>\n",
       "      <th>4</th>\n",
       "      <td>204023</td>\n",
       "      <td>G8933577968159</td>\n",
       "      <td>2497952567036766848</td>\n",
       "      <td>J025747.26-002737.2</td>\n",
       "      <td>2011-10-24</td>\n",
       "      <td>55859</td>\n",
       "      <td>55858</td>\n",
       "      <td>F5907</td>\n",
       "      <td>4</td>\n",
       "      <td>23</td>\n",
       "      <td>...</td>\n",
       "      <td>0</td>\n",
       "      <td>0.0</td>\n",
       "      <td>44.446950</td>\n",
       "      <td>-0.460360</td>\n",
       "      <td>DA</td>\n",
       "      <td>-9999.00</td>\n",
       "      <td>-9999.00</td>\n",
       "      <td>-9999.000</td>\n",
       "      <td>-9999.000</td>\n",
       "      <td>-49.620308</td>\n",
       "    </tr>\n",
       "    <tr>\n",
       "      <th>...</th>\n",
       "      <td>...</td>\n",
       "      <td>...</td>\n",
       "      <td>...</td>\n",
       "      <td>...</td>\n",
       "      <td>...</td>\n",
       "      <td>...</td>\n",
       "      <td>...</td>\n",
       "      <td>...</td>\n",
       "      <td>...</td>\n",
       "      <td>...</td>\n",
       "      <td>...</td>\n",
       "      <td>...</td>\n",
       "      <td>...</td>\n",
       "      <td>...</td>\n",
       "      <td>...</td>\n",
       "      <td>...</td>\n",
       "      <td>...</td>\n",
       "      <td>...</td>\n",
       "      <td>...</td>\n",
       "      <td>...</td>\n",
       "      <td>...</td>\n",
       "    </tr>\n",
       "    <tr>\n",
       "      <th>15611</th>\n",
       "      <td>823814206</td>\n",
       "      <td>L13969314261795</td>\n",
       "      <td>823814206</td>\n",
       "      <td>J182122.96+183353.4</td>\n",
       "      <td>2020-05-27</td>\n",
       "      <td>58997</td>\n",
       "      <td>58996</td>\n",
       "      <td>GACII277N17M1</td>\n",
       "      <td>14</td>\n",
       "      <td>206</td>\n",
       "      <td>...</td>\n",
       "      <td>0</td>\n",
       "      <td>0.0</td>\n",
       "      <td>275.345680</td>\n",
       "      <td>18.564854</td>\n",
       "      <td>DA</td>\n",
       "      <td>26489.80</td>\n",
       "      <td>693.50</td>\n",
       "      <td>7.782</td>\n",
       "      <td>0.092</td>\n",
       "      <td>14.803124</td>\n",
       "    </tr>\n",
       "    <tr>\n",
       "      <th>15612</th>\n",
       "      <td>824005215</td>\n",
       "      <td>L14519339570388</td>\n",
       "      <td>824005215</td>\n",
       "      <td>J162937.34+052355.4</td>\n",
       "      <td>2020-05-27</td>\n",
       "      <td>58997</td>\n",
       "      <td>58996</td>\n",
       "      <td>HD163300N063640M02</td>\n",
       "      <td>5</td>\n",
       "      <td>215</td>\n",
       "      <td>...</td>\n",
       "      <td>0</td>\n",
       "      <td>0.0</td>\n",
       "      <td>247.405603</td>\n",
       "      <td>5.398735</td>\n",
       "      <td>DAZ</td>\n",
       "      <td>16620.23</td>\n",
       "      <td>76.96</td>\n",
       "      <td>-9999.000</td>\n",
       "      <td>-9999.000</td>\n",
       "      <td>33.838033</td>\n",
       "    </tr>\n",
       "    <tr>\n",
       "      <th>15613</th>\n",
       "      <td>824006121</td>\n",
       "      <td>G14518559500900</td>\n",
       "      <td>4435598234807569536</td>\n",
       "      <td>J164145.72+053537.1</td>\n",
       "      <td>2020-05-27</td>\n",
       "      <td>58997</td>\n",
       "      <td>58996</td>\n",
       "      <td>HD163300N063640M02</td>\n",
       "      <td>6</td>\n",
       "      <td>121</td>\n",
       "      <td>...</td>\n",
       "      <td>0</td>\n",
       "      <td>0.0</td>\n",
       "      <td>250.440521</td>\n",
       "      <td>5.593662</td>\n",
       "      <td>DA</td>\n",
       "      <td>7100.12</td>\n",
       "      <td>45.07</td>\n",
       "      <td>8.647</td>\n",
       "      <td>0.047</td>\n",
       "      <td>31.285448</td>\n",
       "    </tr>\n",
       "    <tr>\n",
       "      <th>15614</th>\n",
       "      <td>824006212</td>\n",
       "      <td>G14518361692417</td>\n",
       "      <td>4435580573901845760</td>\n",
       "      <td>J163942.86+052615.0</td>\n",
       "      <td>2020-05-27</td>\n",
       "      <td>58997</td>\n",
       "      <td>58996</td>\n",
       "      <td>HD163300N063640M02</td>\n",
       "      <td>6</td>\n",
       "      <td>212</td>\n",
       "      <td>...</td>\n",
       "      <td>0</td>\n",
       "      <td>0.0</td>\n",
       "      <td>249.928587</td>\n",
       "      <td>5.437514</td>\n",
       "      <td>DA</td>\n",
       "      <td>33696.96</td>\n",
       "      <td>312.21</td>\n",
       "      <td>-9999.000</td>\n",
       "      <td>-9999.000</td>\n",
       "      <td>31.658385</td>\n",
       "    </tr>\n",
       "    <tr>\n",
       "      <th>15615</th>\n",
       "      <td>824014012</td>\n",
       "      <td>G14455116671136</td>\n",
       "      <td>4439886570673356928</td>\n",
       "      <td>J162506.34+073801.6</td>\n",
       "      <td>2020-05-27</td>\n",
       "      <td>58997</td>\n",
       "      <td>58996</td>\n",
       "      <td>HD163300N063640M02</td>\n",
       "      <td>14</td>\n",
       "      <td>12</td>\n",
       "      <td>...</td>\n",
       "      <td>0</td>\n",
       "      <td>0.0</td>\n",
       "      <td>246.276440</td>\n",
       "      <td>7.633784</td>\n",
       "      <td>DA</td>\n",
       "      <td>14452.53</td>\n",
       "      <td>433.31</td>\n",
       "      <td>7.650</td>\n",
       "      <td>0.062</td>\n",
       "      <td>35.894445</td>\n",
       "    </tr>\n",
       "  </tbody>\n",
       "</table>\n",
       "<p>15616 rows × 46 columns</p>\n",
       "</div>"
      ],
      "text/plain": [
       "           obsid              uid                gp_id          designation  \\\n",
       "0         101076  G12763484624375  2676893926929699200  J220838.58-013731.7   \n",
       "1         101151  G12762587004699  2677056689010163456  J220823.66-011534.2   \n",
       "2         112211  G13351718912434  2679476512239443328  J221640.39+012741.2   \n",
       "3         116148  G13358737732360  2683213511743993472  J220522.86+021837.5   \n",
       "4         204023   G8933577968159  2497952567036766848  J025747.26-002737.2   \n",
       "...          ...              ...                  ...                  ...   \n",
       "15611  823814206  L13969314261795            823814206  J182122.96+183353.4   \n",
       "15612  824005215  L14519339570388            824005215  J162937.34+052355.4   \n",
       "15613  824006121  G14518559500900  4435598234807569536  J164145.72+053537.1   \n",
       "15614  824006212  G14518361692417  4435580573901845760  J163942.86+052615.0   \n",
       "15615  824014012  G14455116671136  4439886570673356928  J162506.34+073801.6   \n",
       "\n",
       "          obsdate   lmjd    mjd              planid spid fiberid  ...  \\\n",
       "0      2011-10-24  55859  55858               F5902    1      76  ...   \n",
       "1      2011-10-24  55859  55858               F5902    1     151  ...   \n",
       "2      2011-10-24  55859  55858               F5902   12     211  ...   \n",
       "3      2011-10-24  55859  55858               F5902   16     148  ...   \n",
       "4      2011-10-24  55859  55858               F5907    4      23  ...   \n",
       "...           ...    ...    ...                 ...  ...     ...  ...   \n",
       "15611  2020-05-27  58997  58996       GACII277N17M1   14     206  ...   \n",
       "15612  2020-05-27  58997  58996  HD163300N063640M02    5     215  ...   \n",
       "15613  2020-05-27  58997  58996  HD163300N063640M02    6     121  ...   \n",
       "15614  2020-05-27  58997  58996  HD163300N063640M02    6     212  ...   \n",
       "15615  2020-05-27  58997  58996  HD163300N063640M02   14      12  ...   \n",
       "\n",
       "       offsets  offsets_v          ra        dec  wd_subclass      teff  \\\n",
       "0            0        0.0  332.160763  -1.625490           DA  -9999.00   \n",
       "1            0        0.0  332.098588  -1.259508           DA  24000.00   \n",
       "2            0        0.0  334.168324   1.461445           DA  17122.64   \n",
       "3            0        0.0  331.345250   2.310432           DA  14070.30   \n",
       "4            0        0.0   44.446950  -0.460360           DA  -9999.00   \n",
       "...        ...        ...         ...        ...          ...       ...   \n",
       "15611        0        0.0  275.345680  18.564854           DA  26489.80   \n",
       "15612        0        0.0  247.405603   5.398735          DAZ  16620.23   \n",
       "15613        0        0.0  250.440521   5.593662           DA   7100.12   \n",
       "15614        0        0.0  249.928587   5.437514           DA  33696.96   \n",
       "15615        0        0.0  246.276440   7.633784           DA  14452.53   \n",
       "\n",
       "       teff_err      logg  logg_err          b  \n",
       "0      -9999.00 -9999.000 -9999.000 -43.425168  \n",
       "1        672.02     8.263     0.076 -43.154923  \n",
       "2        221.39     7.933     0.037 -43.063161  \n",
       "3        215.59     8.063     0.028 -40.352703  \n",
       "4      -9999.00 -9999.000 -9999.000 -49.620308  \n",
       "...         ...       ...       ...        ...  \n",
       "15611    693.50     7.782     0.092  14.803124  \n",
       "15612     76.96 -9999.000 -9999.000  33.838033  \n",
       "15613     45.07     8.647     0.047  31.285448  \n",
       "15614    312.21 -9999.000 -9999.000  31.658385  \n",
       "15615    433.31     7.650     0.062  35.894445  \n",
       "\n",
       "[15616 rows x 46 columns]"
      ]
     },
     "execution_count": 56,
     "metadata": {},
     "output_type": "execute_result"
    }
   ],
   "source": [
    "pd.concat([a,data])"
   ]
  },
  {
   "cell_type": "code",
   "execution_count": 9,
   "id": "6d7ab2dc",
   "metadata": {
    "ExecuteTime": {
     "end_time": "2022-05-23T07:25:31.706497Z",
     "start_time": "2022-05-23T07:25:31.694388Z"
    }
   },
   "outputs": [
    {
     "ename": "NameError",
     "evalue": "name 'data' is not defined",
     "output_type": "error",
     "traceback": [
      "\u001b[0;31m---------------------------------------------------------------------------\u001b[0m",
      "\u001b[0;31mNameError\u001b[0m                                 Traceback (most recent call last)",
      "\u001b[0;32m<ipython-input-9-b04536c89002>\u001b[0m in \u001b[0;36m<module>\u001b[0;34m\u001b[0m\n\u001b[0;32m----> 1\u001b[0;31m \u001b[0mdata\u001b[0m\u001b[0;34m[\u001b[0m\u001b[0;34m[\u001b[0m\u001b[0;34m'obsid'\u001b[0m\u001b[0;34m,\u001b[0m\u001b[0;34m'ra_obs'\u001b[0m\u001b[0;34m,\u001b[0m\u001b[0;34m'dec_obs'\u001b[0m\u001b[0;34m]\u001b[0m\u001b[0;34m]\u001b[0m\u001b[0;34m\u001b[0m\u001b[0;34m\u001b[0m\u001b[0m\n\u001b[0m",
      "\u001b[0;31mNameError\u001b[0m: name 'data' is not defined"
     ]
    }
   ],
   "source": [
    "data[['obsid','ra_obs','dec_obs']]"
   ]
  },
  {
   "cell_type": "code",
   "execution_count": 2,
   "id": "f36ac1d4",
   "metadata": {
    "ExecuteTime": {
     "end_time": "2022-06-16T03:32:40.290079Z",
     "start_time": "2022-06-16T03:32:22.675160Z"
    }
   },
   "outputs": [],
   "source": [
    "\n",
    "\n",
    "a = pd.read_csv('../dr8_gb_greater_45.csv')"
   ]
  },
  {
   "cell_type": "code",
   "execution_count": 11,
   "id": "20881e08",
   "metadata": {
    "ExecuteTime": {
     "end_time": "2022-05-23T07:25:53.004662Z",
     "start_time": "2022-05-23T07:25:52.977549Z"
    }
   },
   "outputs": [
    {
     "data": {
      "text/html": [
       "<div>\n",
       "<style scoped>\n",
       "    .dataframe tbody tr th:only-of-type {\n",
       "        vertical-align: middle;\n",
       "    }\n",
       "\n",
       "    .dataframe tbody tr th {\n",
       "        vertical-align: top;\n",
       "    }\n",
       "\n",
       "    .dataframe thead th {\n",
       "        text-align: right;\n",
       "    }\n",
       "</style>\n",
       "<table border=\"1\" class=\"dataframe\">\n",
       "  <thead>\n",
       "    <tr style=\"text-align: right;\">\n",
       "      <th></th>\n",
       "      <th>obsid</th>\n",
       "      <th>ra_obs</th>\n",
       "      <th>dec_obs</th>\n",
       "    </tr>\n",
       "  </thead>\n",
       "  <tbody>\n",
       "    <tr>\n",
       "      <th>0</th>\n",
       "      <td>3706051</td>\n",
       "      <td>141.906380</td>\n",
       "      <td>27.271168</td>\n",
       "    </tr>\n",
       "    <tr>\n",
       "      <th>1</th>\n",
       "      <td>3706056</td>\n",
       "      <td>141.872385</td>\n",
       "      <td>27.354952</td>\n",
       "    </tr>\n",
       "    <tr>\n",
       "      <th>2</th>\n",
       "      <td>3706057</td>\n",
       "      <td>141.985427</td>\n",
       "      <td>27.195557</td>\n",
       "    </tr>\n",
       "    <tr>\n",
       "      <th>3</th>\n",
       "      <td>3706059</td>\n",
       "      <td>142.127981</td>\n",
       "      <td>27.156590</td>\n",
       "    </tr>\n",
       "    <tr>\n",
       "      <th>4</th>\n",
       "      <td>3706060</td>\n",
       "      <td>141.913714</td>\n",
       "      <td>27.183941</td>\n",
       "    </tr>\n",
       "    <tr>\n",
       "      <th>...</th>\n",
       "      <td>...</td>\n",
       "      <td>...</td>\n",
       "      <td>...</td>\n",
       "    </tr>\n",
       "    <tr>\n",
       "      <th>2586082</th>\n",
       "      <td>823113215</td>\n",
       "      <td>189.614061</td>\n",
       "      <td>33.370878</td>\n",
       "    </tr>\n",
       "    <tr>\n",
       "      <th>2586083</th>\n",
       "      <td>823113217</td>\n",
       "      <td>190.085984</td>\n",
       "      <td>33.654721</td>\n",
       "    </tr>\n",
       "    <tr>\n",
       "      <th>2586084</th>\n",
       "      <td>823113219</td>\n",
       "      <td>189.870454</td>\n",
       "      <td>33.494932</td>\n",
       "    </tr>\n",
       "    <tr>\n",
       "      <th>2586085</th>\n",
       "      <td>823113222</td>\n",
       "      <td>189.905752</td>\n",
       "      <td>33.559725</td>\n",
       "    </tr>\n",
       "    <tr>\n",
       "      <th>2586086</th>\n",
       "      <td>823113224</td>\n",
       "      <td>190.087571</td>\n",
       "      <td>33.472997</td>\n",
       "    </tr>\n",
       "  </tbody>\n",
       "</table>\n",
       "<p>2586087 rows × 3 columns</p>\n",
       "</div>"
      ],
      "text/plain": [
       "             obsid      ra_obs    dec_obs\n",
       "0          3706051  141.906380  27.271168\n",
       "1          3706056  141.872385  27.354952\n",
       "2          3706057  141.985427  27.195557\n",
       "3          3706059  142.127981  27.156590\n",
       "4          3706060  141.913714  27.183941\n",
       "...            ...         ...        ...\n",
       "2586082  823113215  189.614061  33.370878\n",
       "2586083  823113217  190.085984  33.654721\n",
       "2586084  823113219  189.870454  33.494932\n",
       "2586085  823113222  189.905752  33.559725\n",
       "2586086  823113224  190.087571  33.472997\n",
       "\n",
       "[2586087 rows x 3 columns]"
      ]
     },
     "execution_count": 11,
     "metadata": {},
     "output_type": "execute_result"
    }
   ],
   "source": [
    "a[['obsid','ra_obs','dec_obs']]"
   ]
  },
  {
   "cell_type": "code",
   "execution_count": 4,
   "id": "c0e94ae8",
   "metadata": {
    "ExecuteTime": {
     "end_time": "2022-05-23T07:23:07.433619Z",
     "start_time": "2022-05-23T07:23:07.410558Z"
    }
   },
   "outputs": [],
   "source": [
    "b=a[['obsid','ra_obs','dec_obs']]"
   ]
  },
  {
   "cell_type": "code",
   "execution_count": 7,
   "id": "00c9b2bf",
   "metadata": {
    "ExecuteTime": {
     "end_time": "2022-05-23T07:25:06.687723Z",
     "start_time": "2022-05-23T07:25:06.583895Z"
    },
    "scrolled": true
   },
   "outputs": [
    {
     "data": {
      "text/html": [
       "<div>\n",
       "<style scoped>\n",
       "    .dataframe tbody tr th:only-of-type {\n",
       "        vertical-align: middle;\n",
       "    }\n",
       "\n",
       "    .dataframe tbody tr th {\n",
       "        vertical-align: top;\n",
       "    }\n",
       "\n",
       "    .dataframe thead th {\n",
       "        text-align: right;\n",
       "    }\n",
       "</style>\n",
       "<table border=\"1\" class=\"dataframe\">\n",
       "  <thead>\n",
       "    <tr style=\"text-align: right;\">\n",
       "      <th></th>\n",
       "      <th>obsid</th>\n",
       "      <th>ra_obs</th>\n",
       "      <th>dec_obs</th>\n",
       "    </tr>\n",
       "  </thead>\n",
       "  <tbody>\n",
       "    <tr>\n",
       "      <th>0</th>\n",
       "      <td>3706051</td>\n",
       "      <td>141.90638</td>\n",
       "      <td>27.271168</td>\n",
       "    </tr>\n",
       "  </tbody>\n",
       "</table>\n",
       "</div>"
      ],
      "text/plain": [
       "     obsid     ra_obs    dec_obs\n",
       "0  3706051  141.90638  27.271168"
      ]
     },
     "execution_count": 7,
     "metadata": {},
     "output_type": "execute_result"
    }
   ],
   "source": [
    "b[b['obsid']==3706051]"
   ]
  },
  {
   "cell_type": "code",
   "execution_count": 13,
   "id": "b35dcdb0",
   "metadata": {
    "ExecuteTime": {
     "end_time": "2022-05-23T07:26:53.450493Z",
     "start_time": "2022-05-23T07:26:46.497989Z"
    }
   },
   "outputs": [],
   "source": [
    "b.to_csv('../coord_greater_45.csv')"
   ]
  },
  {
   "cell_type": "code",
   "execution_count": 3,
   "id": "4a5286cf",
   "metadata": {
    "ExecuteTime": {
     "end_time": "2022-06-16T03:32:46.461778Z",
     "start_time": "2022-06-16T03:32:46.200410Z"
    },
    "scrolled": true
   },
   "outputs": [
    {
     "data": {
      "text/plain": [
       "121350"
      ]
     },
     "execution_count": 3,
     "metadata": {},
     "output_type": "execute_result"
    }
   ],
   "source": [
    "sum(a[a['class']=='GALAXY']['z']<0.3)  # all 122114"
   ]
  },
  {
   "cell_type": "code",
   "execution_count": 11,
   "id": "c4b30422",
   "metadata": {
    "ExecuteTime": {
     "end_time": "2022-06-16T03:39:40.196504Z",
     "start_time": "2022-06-16T03:39:40.046982Z"
    }
   },
   "outputs": [
    {
     "data": {
      "text/plain": [
       "count    1876.000000\n",
       "mean        0.185526\n",
       "std         0.075202\n",
       "min        -0.004371\n",
       "25%         0.126650\n",
       "50%         0.190185\n",
       "75%         0.252276\n",
       "max         0.299978\n",
       "Name: z, dtype: float64"
      ]
     },
     "execution_count": 11,
     "metadata": {},
     "output_type": "execute_result"
    }
   ],
   "source": [
    "a[(a['class']=='QSO') & (a['z']!=-9999.0) &(a['z']<0.3)]['z'].describe()"
   ]
  },
  {
   "cell_type": "code",
   "execution_count": 12,
   "id": "5dfdaea3",
   "metadata": {
    "ExecuteTime": {
     "end_time": "2022-06-16T03:39:42.217569Z",
     "start_time": "2022-06-16T03:39:42.058993Z"
    },
    "scrolled": true
   },
   "outputs": [
    {
     "data": {
      "text/plain": [
       "count    1873.000000\n",
       "mean        0.185830\n",
       "std         0.074878\n",
       "min         0.000209\n",
       "25%         0.127318\n",
       "50%         0.190607\n",
       "75%         0.252356\n",
       "max         0.299978\n",
       "Name: z, dtype: float64"
      ]
     },
     "execution_count": 12,
     "metadata": {},
     "output_type": "execute_result"
    }
   ],
   "source": [
    "a[(a['class']=='QSO') & (a['z']!=-9999.0) &(a['z']<0.3) &(a['z']>0)]['z'].describe()"
   ]
  },
  {
   "cell_type": "code",
   "execution_count": 37,
   "id": "59b39410",
   "metadata": {
    "ExecuteTime": {
     "end_time": "2022-05-31T07:50:59.660303Z",
     "start_time": "2022-05-31T07:50:59.481276Z"
    }
   },
   "outputs": [],
   "source": [
    "q = a[(a['class']=='QSO') & (a['z']!=-9999.0)]\n"
   ]
  },
  {
   "cell_type": "code",
   "execution_count": 38,
   "id": "685759fb",
   "metadata": {
    "ExecuteTime": {
     "end_time": "2022-05-31T07:51:38.899527Z",
     "start_time": "2022-05-31T07:51:38.586408Z"
    }
   },
   "outputs": [],
   "source": [
    "g = a[(a['class']=='GALAXY') & (a['z']!=-9999.0)]\n",
    "g = g[g['z']<0.12]"
   ]
  },
  {
   "cell_type": "code",
   "execution_count": 41,
   "id": "4c40c55a",
   "metadata": {
    "ExecuteTime": {
     "end_time": "2022-05-31T07:52:38.110880Z",
     "start_time": "2022-05-31T07:52:38.096216Z"
    }
   },
   "outputs": [
    {
     "data": {
      "text/plain": [
       "count    86397.000000\n",
       "mean         0.071075\n",
       "std          0.027556\n",
       "min         -0.004021\n",
       "25%          0.051145\n",
       "50%          0.073082\n",
       "75%          0.091686\n",
       "max          0.119999\n",
       "Name: z, dtype: float64"
      ]
     },
     "execution_count": 41,
     "metadata": {},
     "output_type": "execute_result"
    }
   ],
   "source": [
    "g['z'].describe()"
   ]
  },
  {
   "cell_type": "markdown",
   "id": "e54cc5d7",
   "metadata": {},
   "source": [
    "## 去红移"
   ]
  },
  {
   "cell_type": "code",
   "execution_count": 42,
   "id": "14451ad9",
   "metadata": {
    "ExecuteTime": {
     "end_time": "2022-05-31T07:58:08.519050Z",
     "start_time": "2022-05-31T07:58:08.514341Z"
    }
   },
   "outputs": [],
   "source": [
    "from astropy.io import fits\n",
    "import numpy as np"
   ]
  },
  {
   "cell_type": "code",
   "execution_count": 44,
   "id": "aae05a59",
   "metadata": {
    "ExecuteTime": {
     "end_time": "2022-05-31T08:09:46.755888Z",
     "start_time": "2022-05-31T08:09:46.737284Z"
    }
   },
   "outputs": [],
   "source": [
    "fits_path = '/home/shichenhui/code/data/data_process/constract_dataset/spec-55859-F5902_sp02-140.fits.gz'\n",
    "fits_file = fits.open(fits_path)\n",
    "hdu = fits_file[0]\n",
    "data = hdu.data[0]"
   ]
  },
  {
   "cell_type": "code",
   "execution_count": 65,
   "id": "0cf06881",
   "metadata": {
    "ExecuteTime": {
     "end_time": "2022-05-31T08:27:12.396954Z",
     "start_time": "2022-05-31T08:27:12.388675Z"
    }
   },
   "outputs": [
    {
     "data": {
      "text/plain": [
       "3.5682"
      ]
     },
     "execution_count": 65,
     "metadata": {},
     "output_type": "execute_result"
    }
   ],
   "source": [
    "coeff0 = hdu.header['COEFF0']\n",
    "z=hdu.header['z']\n",
    "coeff0"
   ]
  },
  {
   "cell_type": "code",
   "execution_count": 47,
   "id": "fb53b6e6",
   "metadata": {
    "ExecuteTime": {
     "end_time": "2022-05-31T08:13:04.269292Z",
     "start_time": "2022-05-31T08:13:04.262059Z"
    }
   },
   "outputs": [
    {
     "data": {
      "text/plain": [
       "3699.9853117285957"
      ]
     },
     "execution_count": 47,
     "metadata": {},
     "output_type": "execute_result"
    }
   ],
   "source": [
    "10**3.5682"
   ]
  },
  {
   "cell_type": "code",
   "execution_count": 48,
   "id": "89af4628",
   "metadata": {
    "ExecuteTime": {
     "end_time": "2022-05-31T08:13:58.607423Z",
     "start_time": "2022-05-31T08:13:58.600185Z"
    }
   },
   "outputs": [
    {
     "data": {
      "text/plain": [
       "3890"
      ]
     },
     "execution_count": 48,
     "metadata": {},
     "output_type": "execute_result"
    }
   ],
   "source": [
    "len(data)"
   ]
  },
  {
   "cell_type": "code",
   "execution_count": 60,
   "id": "bb975ae5",
   "metadata": {
    "ExecuteTime": {
     "end_time": "2022-05-31T08:25:49.382462Z",
     "start_time": "2022-05-31T08:25:49.376837Z"
    }
   },
   "outputs": [],
   "source": [
    "# numpy.linspace(start, stop, num=50, endpoint=True, retstep=False, dtype=None, axis=0)\n",
    "wave = np.linspace(start=coeff0,stop=coeff0+0.0001*len(data),num=len(data),endpoint=False)"
   ]
  },
  {
   "cell_type": "code",
   "execution_count": 83,
   "id": "ac617d8a",
   "metadata": {
    "ExecuteTime": {
     "end_time": "2022-05-31T08:35:57.662780Z",
     "start_time": "2022-05-31T08:35:57.653882Z"
    }
   },
   "outputs": [
    {
     "data": {
      "text/plain": [
       "(array([3699.98531173, 3700.83736292, 3701.68961033, ..., 9055.24072268,\n",
       "        9057.32600898, 9059.41177549]),\n",
       " array([2846.14254748, 2846.79797148, 2847.45354641, ..., 6965.56978668,\n",
       "        6967.17385306, 6968.77828884]))"
      ]
     },
     "execution_count": 83,
     "metadata": {},
     "output_type": "execute_result"
    }
   ],
   "source": [
    "\n",
    "10**wave,10**wave/(1+0.3)"
   ]
  },
  {
   "cell_type": "code",
   "execution_count": 84,
   "id": "6e81008f",
   "metadata": {
    "ExecuteTime": {
     "end_time": "2022-05-31T08:36:16.452976Z",
     "start_time": "2022-05-31T08:36:16.448114Z"
    }
   },
   "outputs": [],
   "source": [
    "wr = 10**wave/(1+0.3)"
   ]
  },
  {
   "cell_type": "code",
   "execution_count": 92,
   "id": "4357006c",
   "metadata": {
    "ExecuteTime": {
     "end_time": "2022-05-31T08:44:08.071222Z",
     "start_time": "2022-05-31T08:44:08.064784Z"
    }
   },
   "outputs": [
    {
     "data": {
      "text/plain": [
       "2628"
      ]
     },
     "execution_count": 92,
     "metadata": {},
     "output_type": "execute_result"
    }
   ],
   "source": [
    "len(wr[(wr>3800) & (wr<6960)])"
   ]
  },
  {
   "cell_type": "code",
   "execution_count": 93,
   "id": "394f7b58",
   "metadata": {
    "ExecuteTime": {
     "end_time": "2022-05-31T09:00:44.062711Z",
     "start_time": "2022-05-31T09:00:44.057855Z"
    }
   },
   "outputs": [],
   "source": [
    "w=10**wave"
   ]
  },
  {
   "cell_type": "code",
   "execution_count": 94,
   "id": "77af4156",
   "metadata": {
    "ExecuteTime": {
     "end_time": "2022-05-31T09:00:53.617355Z",
     "start_time": "2022-05-31T09:00:53.609623Z"
    }
   },
   "outputs": [
    {
     "data": {
      "text/plain": [
       "2629"
      ]
     },
     "execution_count": 94,
     "metadata": {},
     "output_type": "execute_result"
    }
   ],
   "source": [
    "len(w[(w>3800) & (w<6960)])"
   ]
  },
  {
   "cell_type": "code",
   "execution_count": 96,
   "id": "9a825cb0",
   "metadata": {
    "ExecuteTime": {
     "end_time": "2022-05-31T09:09:58.232535Z",
     "start_time": "2022-05-31T09:09:58.225092Z"
    }
   },
   "outputs": [
    {
     "data": {
      "text/plain": [
       "0.2628256429937519"
      ]
     },
     "execution_count": 96,
     "metadata": {},
     "output_type": "execute_result"
    }
   ],
   "source": [
    "np.log10(6960*1.3)-np.log10(3800*1.3)"
   ]
  },
  {
   "cell_type": "code",
   "execution_count": null,
   "id": "77ac1482",
   "metadata": {},
   "outputs": [],
   "source": []
  }
 ],
 "metadata": {
  "kernelspec": {
   "display_name": "Python 3",
   "language": "python",
   "name": "python3"
  },
  "language_info": {
   "codemirror_mode": {
    "name": "ipython",
    "version": 3
   },
   "file_extension": ".py",
   "mimetype": "text/x-python",
   "name": "python",
   "nbconvert_exporter": "python",
   "pygments_lexer": "ipython3",
   "version": "3.8.10"
  }
 },
 "nbformat": 4,
 "nbformat_minor": 5
}
