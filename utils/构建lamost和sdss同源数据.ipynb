{
 "cells": [
  {
   "cell_type": "code",
   "execution_count": 125,
   "id": "8af01afd",
   "metadata": {
    "ExecuteTime": {
     "end_time": "2022-06-13T15:31:21.023405Z",
     "start_time": "2022-06-13T15:31:21.018119Z"
    },
    "pycharm": {
     "name": "#%%\n"
    }
   },
   "outputs": [],
   "source": [
    "import os, sys, time\n",
    "import pandas as pd\n",
    "import numpy as np\n",
    "from tqdm.notebook import tqdm\n",
    "from astropy.io import fits\n",
    "from collections import Counter"
   ]
  },
  {
   "cell_type": "code",
   "execution_count": 2,
   "id": "abbe71ae",
   "metadata": {
    "ExecuteTime": {
     "end_time": "2022-06-05T13:04:43.967718Z",
     "start_time": "2022-06-05T13:04:43.560742Z"
    },
    "pycharm": {
     "name": "#%%\n"
    }
   },
   "outputs": [
    {
     "name": "stdout",
     "output_type": "stream",
     "text": [
      "<class 'pandas.core.frame.DataFrame'>\n",
      "RangeIndex: 229639 entries, 0 to 229638\n",
      "Data columns (total 15 columns):\n",
      " #   Column      Non-Null Count   Dtype  \n",
      "---  ------      --------------   -----  \n",
      " 0   obsid       229639 non-null  int64  \n",
      " 1   ra_lamost   229639 non-null  float64\n",
      " 2   dec_lamost  229639 non-null  float64\n",
      " 3   specObjID   229639 non-null  float64\n",
      " 4   plate       229639 non-null  int64  \n",
      " 5   mjd         229639 non-null  int64  \n",
      " 6   fiberID     229639 non-null  int64  \n",
      " 7   ra          229639 non-null  float64\n",
      " 8   dec         229639 non-null  float64\n",
      " 9   class       229639 non-null  object \n",
      " 10  subClass    155432 non-null  object \n",
      " 11  sn1_g       229639 non-null  float64\n",
      " 12  sn2_g       229639 non-null  float64\n",
      " 13  sn1_i       229639 non-null  float64\n",
      " 14  sn2_i       229639 non-null  float64\n",
      "dtypes: float64(9), int64(4), object(2)\n",
      "memory usage: 26.3+ MB\n"
     ]
    }
   ],
   "source": [
    "table = pd.read_csv('/home/shichenhui/code/data/spectra_table_both_sdss.csv')\n",
    "table.info()"
   ]
  },
  {
   "cell_type": "code",
   "execution_count": 5,
   "id": "23e08e24",
   "metadata": {
    "ExecuteTime": {
     "end_time": "2022-06-13T01:59:12.466742Z",
     "start_time": "2022-06-13T01:59:12.456770Z"
    },
    "collapsed": true,
    "pycharm": {
     "name": "#%%\n"
    }
   },
   "outputs": [
    {
     "data": {
      "text/plain": [
       "0          STARFORMING\n",
       "1          STARFORMING\n",
       "2          STARFORMING\n",
       "3                  NaN\n",
       "4                  NaN\n",
       "              ...     \n",
       "229634       BROADLINE\n",
       "229635       BROADLINE\n",
       "229636       BROADLINE\n",
       "229637    F0IV (81937)\n",
       "229638    F0IV (81937)\n",
       "Name: subClass, Length: 229639, dtype: object"
      ]
     },
     "execution_count": 5,
     "metadata": {},
     "output_type": "execute_result"
    }
   ],
   "source": [
    "table['subClass']"
   ]
  },
  {
   "cell_type": "code",
   "execution_count": 6,
   "id": "7f0eebf4",
   "metadata": {
    "ExecuteTime": {
     "end_time": "2022-06-13T02:24:15.722590Z",
     "start_time": "2022-06-13T02:23:57.975054Z"
    },
    "pycharm": {
     "name": "#%%\n"
    }
   },
   "outputs": [
    {
     "name": "stdout",
     "output_type": "stream",
     "text": [
      "<class 'pandas.core.frame.DataFrame'>\n",
      "RangeIndex: 2586087 entries, 0 to 2586086\n",
      "Data columns (total 51 columns):\n",
      " #   Column           Dtype  \n",
      "---  ------           -----  \n",
      " 0   Unnamed: 0       int64  \n",
      " 1   obsid            int64  \n",
      " 2   uid              object \n",
      " 3   gp_id            int64  \n",
      " 4   designation      object \n",
      " 5   obsdate          object \n",
      " 6   lmjd             int64  \n",
      " 7   mjd              int64  \n",
      " 8   planid           object \n",
      " 9   spid             int64  \n",
      " 10  fiberid          int64  \n",
      " 11  ra_obs           float64\n",
      " 12  dec_obs          float64\n",
      " 13  snru             float64\n",
      " 14  snrg             float64\n",
      " 15  snrr             float64\n",
      " 16  snri             float64\n",
      " 17  snrz             float64\n",
      " 18  objtype          object \n",
      " 19  class            object \n",
      " 20  subclass         object \n",
      " 21  z                float64\n",
      " 22  z_err            float64\n",
      " 23  magtype          object \n",
      " 24  mag1             float64\n",
      " 25  mag2             float64\n",
      " 26  mag3             float64\n",
      " 27  mag4             float64\n",
      " 28  mag5             float64\n",
      " 29  mag6             float64\n",
      " 30  mag7             float64\n",
      " 31  ps_id            float64\n",
      " 32  ps_g             float64\n",
      " 33  ps_r             float64\n",
      " 34  ps_i             float64\n",
      " 35  ps_z             float64\n",
      " 36  ps_y             float64\n",
      " 37  n_ps             float64\n",
      " 38  gaia_source_id   float64\n",
      " 39  gaia_g_mean_mag  float64\n",
      " 40  tsource          object \n",
      " 41  fibertype        object \n",
      " 42  tfrom            object \n",
      " 43  tcomment         object \n",
      " 44  offsets          int64  \n",
      " 45  offsets_v        float64\n",
      " 46  ra               float64\n",
      " 47  dec              float64\n",
      " 48  fibermask        int64  \n",
      " 49  with_norm_flux   int64  \n",
      " 50  b                float64\n",
      "dtypes: float64(29), int64(10), object(12)\n",
      "memory usage: 1006.2+ MB\n"
     ]
    }
   ],
   "source": [
    "table_lamost = pd.read_csv('/home/shichenhui/code/data/dr8_gb_greater_45.csv')\n",
    "table_lamost.info()"
   ]
  },
  {
   "cell_type": "code",
   "execution_count": 40,
   "id": "010128ee",
   "metadata": {
    "ExecuteTime": {
     "end_time": "2022-06-13T09:38:02.987305Z",
     "start_time": "2022-06-13T09:38:02.967521Z"
    },
    "pycharm": {
     "name": "#%%\n"
    }
   },
   "outputs": [],
   "source": [
    "\n",
    "table['class_lamost'] = ''\n",
    "table['subclass_lamost'] = ''\n",
    "table['filename_sdss'] = ''\n",
    "table['filename_lamost'] = ''\n"
   ]
  },
  {
   "cell_type": "code",
   "execution_count": 41,
   "id": "1ed09040",
   "metadata": {
    "ExecuteTime": {
     "end_time": "2022-06-13T09:38:03.764946Z",
     "start_time": "2022-06-13T09:38:03.689935Z"
    },
    "pycharm": {
     "name": "#%%\n"
    }
   },
   "outputs": [
    {
     "name": "stdout",
     "output_type": "stream",
     "text": [
      "<class 'pandas.core.frame.DataFrame'>\n",
      "RangeIndex: 229639 entries, 0 to 229638\n",
      "Data columns (total 19 columns):\n",
      " #   Column           Non-Null Count   Dtype  \n",
      "---  ------           --------------   -----  \n",
      " 0   obsid            229639 non-null  int64  \n",
      " 1   ra_lamost        229639 non-null  float64\n",
      " 2   dec_lamost       229639 non-null  float64\n",
      " 3   specObjID        229639 non-null  float64\n",
      " 4   plate            229639 non-null  int64  \n",
      " 5   mjd              229639 non-null  int64  \n",
      " 6   fiberID          229639 non-null  int64  \n",
      " 7   ra               229639 non-null  float64\n",
      " 8   dec              229639 non-null  float64\n",
      " 9   class            229639 non-null  object \n",
      " 10  subClass         155432 non-null  object \n",
      " 11  sn1_g            229639 non-null  float64\n",
      " 12  sn2_g            229639 non-null  float64\n",
      " 13  sn1_i            229639 non-null  float64\n",
      " 14  sn2_i            229639 non-null  float64\n",
      " 15  class_lamost     229639 non-null  object \n",
      " 16  subclass_lamost  229639 non-null  object \n",
      " 17  filename_sdss    229639 non-null  object \n",
      " 18  filename_lamost  229639 non-null  object \n",
      "dtypes: float64(9), int64(4), object(6)\n",
      "memory usage: 33.3+ MB\n"
     ]
    }
   ],
   "source": [
    "table.info()"
   ]
  },
  {
   "cell_type": "code",
   "execution_count": null,
   "id": "c4e02e5f",
   "metadata": {
    "pycharm": {
     "name": "#%%\n"
    }
   },
   "outputs": [],
   "source": []
  },
  {
   "cell_type": "code",
   "execution_count": null,
   "id": "aff70397",
   "metadata": {
    "pycharm": {
     "name": "#%%\n"
    }
   },
   "outputs": [],
   "source": []
  },
  {
   "cell_type": "code",
   "execution_count": null,
   "id": "6dedbe76",
   "metadata": {
    "pycharm": {
     "name": "#%%\n"
    }
   },
   "outputs": [],
   "source": []
  },
  {
   "cell_type": "code",
   "execution_count": null,
   "id": "edbc8e16",
   "metadata": {
    "pycharm": {
     "name": "#%%\n"
    }
   },
   "outputs": [],
   "source": []
  },
  {
   "cell_type": "code",
   "execution_count": 21,
   "id": "557b1df6",
   "metadata": {
    "ExecuteTime": {
     "end_time": "2022-06-13T08:54:22.096823Z",
     "start_time": "2022-06-13T08:54:22.091184Z"
    },
    "pycharm": {
     "name": "#%%\n"
    }
   },
   "outputs": [],
   "source": [
    "def parse_num(s, length):\n",
    "    s = str(s)\n",
    "    l = len(s)\n",
    "    return '0' * (length - l) + s"
   ]
  },
  {
   "cell_type": "code",
   "execution_count": 18,
   "id": "0f74fccc",
   "metadata": {
    "ExecuteTime": {
     "end_time": "2022-06-13T08:51:38.724602Z",
     "start_time": "2022-06-13T08:51:38.720118Z"
    },
    "pycharm": {
     "name": "#%%\n"
    }
   },
   "outputs": [],
   "source": [
    "folder_sdss = '/home/shichenhui/code/data/spectra_bl_greater_45_both_sdss/'\n",
    "folder_lamost = '/home/shichenhui/code/data/spectra_gb_greater_45/'"
   ]
  },
  {
   "cell_type": "code",
   "execution_count": 86,
   "id": "5eb2158f",
   "metadata": {
    "ExecuteTime": {
     "end_time": "2022-06-13T13:34:22.597017Z",
     "start_time": "2022-06-13T13:14:21.132282Z"
    },
    "scrolled": true,
    "pycharm": {
     "name": "#%%\n"
    }
   },
   "outputs": [
    {
     "data": {
      "application/vnd.jupyter.widget-view+json": {
       "model_id": "f29820fac9fd484d8b8ffdc7bdc7bb80",
       "version_major": 2,
       "version_minor": 0
      },
      "text/plain": [
       "0it [00:00, ?it/s]"
      ]
     },
     "metadata": {},
     "output_type": "display_data"
    }
   ],
   "source": [
    "\n",
    "for index, row_sdss in tqdm(table.iterrows()):\n",
    "    #print(index)\n",
    "    if row_sdss['class'] == 'STAR':\n",
    "        \n",
    "        row_lamost = table_lamost.loc[table_lamost['obsid']==row_sdss['obsid']].iloc[0]\n",
    "        #print(row_lamost['class'],row_lamost['subclass'])\n",
    "        table.loc[index, 'class_lamost'] = row_lamost['class']\n",
    "\n",
    "        table.loc[index, 'subclass_lamost'] = row_lamost['subclass']\n",
    "        f_sdss = 'spec-%s-%s-%s.fits' % (\n",
    "                    parse_num(row_sdss['plate'], 4), parse_num(row_sdss['mjd'], 5), parse_num(row_sdss['fiberID'], 4))\n",
    "        f_lamost = 'spec-' + str(row_lamost['lmjd']) + '-' + str(row_lamost['planid']) + '_sp' + parse_num(str(row_lamost['spid']), 2) + '-' + \\\n",
    "                   parse_num(str(row_lamost['fiberid']), 3) + '.fits.gz'\n",
    "\n",
    "        if os.path.exists(folder_sdss+f_sdss):\n",
    "            #print(folder_sdss+f_sdss)\n",
    "            table.loc[index, 'filename_sdss'] = f_sdss\n",
    "        else:\n",
    "            table.loc[index, 'filename_sdss'] = np.NAN\n",
    "        if os.path.exists(folder_lamost+f_lamost):\n",
    "            table.loc[index, 'filename_lamost'] = f_lamost\n",
    "        else:\n",
    "            table.loc[index, 'filename_lamost'] = np.NAN\n",
    "        #print(row_sdss)"
   ]
  },
  {
   "cell_type": "code",
   "execution_count": 81,
   "id": "2adaba50",
   "metadata": {
    "ExecuteTime": {
     "end_time": "2022-06-13T12:27:22.933705Z",
     "start_time": "2022-06-13T12:27:22.859644Z"
    },
    "scrolled": false,
    "pycharm": {
     "name": "#%%\n"
    }
   },
   "outputs": [
    {
     "name": "stdout",
     "output_type": "stream",
     "text": [
      "<class 'pandas.core.frame.DataFrame'>\n",
      "RangeIndex: 229639 entries, 0 to 229638\n",
      "Data columns (total 19 columns):\n",
      " #   Column           Non-Null Count   Dtype  \n",
      "---  ------           --------------   -----  \n",
      " 0   obsid            229639 non-null  int64  \n",
      " 1   ra_lamost        229639 non-null  float64\n",
      " 2   dec_lamost       229639 non-null  float64\n",
      " 3   specObjID        229639 non-null  float64\n",
      " 4   plate            229639 non-null  int64  \n",
      " 5   mjd              229639 non-null  int64  \n",
      " 6   fiberID          229639 non-null  int64  \n",
      " 7   ra               229639 non-null  float64\n",
      " 8   dec              229639 non-null  float64\n",
      " 9   class            229639 non-null  object \n",
      " 10  subClass         155432 non-null  object \n",
      " 11  sn1_g            229639 non-null  float64\n",
      " 12  sn2_g            229639 non-null  float64\n",
      " 13  sn1_i            229639 non-null  float64\n",
      " 14  sn2_i            229639 non-null  float64\n",
      " 15  class_lamost     229639 non-null  object \n",
      " 16  subclass_lamost  229639 non-null  object \n",
      " 17  filename_sdss    229639 non-null  object \n",
      " 18  filename_lamost  229582 non-null  object \n",
      "dtypes: float64(9), int64(4), object(6)\n",
      "memory usage: 33.3+ MB\n"
     ]
    }
   ],
   "source": [
    "table.info()"
   ]
  },
  {
   "cell_type": "code",
   "execution_count": 87,
   "id": "a80a6c00",
   "metadata": {
    "ExecuteTime": {
     "end_time": "2022-06-13T13:34:29.465561Z",
     "start_time": "2022-06-13T13:34:29.436764Z"
    },
    "pycharm": {
     "name": "#%%\n"
    }
   },
   "outputs": [
    {
     "data": {
      "text/html": [
       "<div>\n",
       "<style scoped>\n",
       "    .dataframe tbody tr th:only-of-type {\n",
       "        vertical-align: middle;\n",
       "    }\n",
       "\n",
       "    .dataframe tbody tr th {\n",
       "        vertical-align: top;\n",
       "    }\n",
       "\n",
       "    .dataframe thead th {\n",
       "        text-align: right;\n",
       "    }\n",
       "</style>\n",
       "<table border=\"1\" class=\"dataframe\">\n",
       "  <thead>\n",
       "    <tr style=\"text-align: right;\">\n",
       "      <th></th>\n",
       "      <th>obsid</th>\n",
       "      <th>ra_lamost</th>\n",
       "      <th>dec_lamost</th>\n",
       "      <th>specObjID</th>\n",
       "      <th>plate</th>\n",
       "      <th>mjd</th>\n",
       "      <th>fiberID</th>\n",
       "      <th>ra</th>\n",
       "      <th>dec</th>\n",
       "      <th>class</th>\n",
       "      <th>subClass</th>\n",
       "      <th>sn1_g</th>\n",
       "      <th>sn2_g</th>\n",
       "      <th>sn1_i</th>\n",
       "      <th>sn2_i</th>\n",
       "      <th>class_lamost</th>\n",
       "      <th>subclass_lamost</th>\n",
       "      <th>filename_sdss</th>\n",
       "      <th>filename_lamost</th>\n",
       "    </tr>\n",
       "  </thead>\n",
       "  <tbody>\n",
       "    <tr>\n",
       "      <th>0</th>\n",
       "      <td>319612101</td>\n",
       "      <td>155.7512</td>\n",
       "      <td>-0.059962</td>\n",
       "      <td>3.051280e+17</td>\n",
       "      <td>271</td>\n",
       "      <td>51883</td>\n",
       "      <td>33</td>\n",
       "      <td>155.75117</td>\n",
       "      <td>-0.059968</td>\n",
       "      <td>GALAXY</td>\n",
       "      <td>STARFORMING</td>\n",
       "      <td>20.1005</td>\n",
       "      <td>21.8072</td>\n",
       "      <td>18.3134</td>\n",
       "      <td>17.2228</td>\n",
       "      <td>GALAXY</td>\n",
       "      <td>Non</td>\n",
       "      <td>spec-0271-51883-0033.fits</td>\n",
       "      <td>spec-57070-HD101607S013552M01_sp12-101.fits.gz</td>\n",
       "    </tr>\n",
       "    <tr>\n",
       "      <th>1</th>\n",
       "      <td>229902160</td>\n",
       "      <td>155.1911</td>\n",
       "      <td>0.410111</td>\n",
       "      <td>3.052701e+17</td>\n",
       "      <td>271</td>\n",
       "      <td>51883</td>\n",
       "      <td>550</td>\n",
       "      <td>155.19108</td>\n",
       "      <td>0.410123</td>\n",
       "      <td>GALAXY</td>\n",
       "      <td>STARFORMING</td>\n",
       "      <td>20.1005</td>\n",
       "      <td>21.8072</td>\n",
       "      <td>18.3134</td>\n",
       "      <td>17.2228</td>\n",
       "      <td>GALAXY</td>\n",
       "      <td>Non</td>\n",
       "      <td>spec-0271-51883-0550.fits</td>\n",
       "      <td>spec-56742-HD102942N012928B01_sp02-160.fits.gz</td>\n",
       "    </tr>\n",
       "    <tr>\n",
       "      <th>2</th>\n",
       "      <td>315412029</td>\n",
       "      <td>155.1911</td>\n",
       "      <td>0.410111</td>\n",
       "      <td>3.052701e+17</td>\n",
       "      <td>271</td>\n",
       "      <td>51883</td>\n",
       "      <td>550</td>\n",
       "      <td>155.19108</td>\n",
       "      <td>0.410123</td>\n",
       "      <td>GALAXY</td>\n",
       "      <td>STARFORMING</td>\n",
       "      <td>20.1005</td>\n",
       "      <td>21.8072</td>\n",
       "      <td>18.3134</td>\n",
       "      <td>17.2228</td>\n",
       "      <td>STAR</td>\n",
       "      <td>F6</td>\n",
       "      <td>spec-0271-51883-0550.fits</td>\n",
       "      <td>spec-57062-HD101607S013552B01_sp12-029.fits.gz</td>\n",
       "    </tr>\n",
       "    <tr>\n",
       "      <th>3</th>\n",
       "      <td>319612183</td>\n",
       "      <td>155.6168</td>\n",
       "      <td>0.284210</td>\n",
       "      <td>3.052929e+17</td>\n",
       "      <td>271</td>\n",
       "      <td>51883</td>\n",
       "      <td>633</td>\n",
       "      <td>155.61682</td>\n",
       "      <td>0.284189</td>\n",
       "      <td>GALAXY</td>\n",
       "      <td>NaN</td>\n",
       "      <td>20.1005</td>\n",
       "      <td>21.8072</td>\n",
       "      <td>18.3134</td>\n",
       "      <td>17.2228</td>\n",
       "      <td>Unknown</td>\n",
       "      <td>Non</td>\n",
       "      <td>spec-0271-51883-0633.fits</td>\n",
       "      <td>spec-57070-HD101607S013552M01_sp12-183.fits.gz</td>\n",
       "    </tr>\n",
       "    <tr>\n",
       "      <th>4</th>\n",
       "      <td>134812198</td>\n",
       "      <td>155.5197</td>\n",
       "      <td>0.069353</td>\n",
       "      <td>3.063171e+17</td>\n",
       "      <td>272</td>\n",
       "      <td>51941</td>\n",
       "      <td>263</td>\n",
       "      <td>155.51972</td>\n",
       "      <td>0.069365</td>\n",
       "      <td>GALAXY</td>\n",
       "      <td>NaN</td>\n",
       "      <td>20.0803</td>\n",
       "      <td>21.2267</td>\n",
       "      <td>20.0486</td>\n",
       "      <td>20.1782</td>\n",
       "      <td>Unknown</td>\n",
       "      <td>Non</td>\n",
       "      <td>spec-0272-51941-0263.fits</td>\n",
       "      <td>spec-56365-HD101607S013552F01_sp12-198.fits.gz</td>\n",
       "    </tr>\n",
       "    <tr>\n",
       "      <th>...</th>\n",
       "      <td>...</td>\n",
       "      <td>...</td>\n",
       "      <td>...</td>\n",
       "      <td>...</td>\n",
       "      <td>...</td>\n",
       "      <td>...</td>\n",
       "      <td>...</td>\n",
       "      <td>...</td>\n",
       "      <td>...</td>\n",
       "      <td>...</td>\n",
       "      <td>...</td>\n",
       "      <td>...</td>\n",
       "      <td>...</td>\n",
       "      <td>...</td>\n",
       "      <td>...</td>\n",
       "      <td>...</td>\n",
       "      <td>...</td>\n",
       "      <td>...</td>\n",
       "      <td>...</td>\n",
       "    </tr>\n",
       "    <tr>\n",
       "      <th>229634</th>\n",
       "      <td>523514070</td>\n",
       "      <td>200.1005</td>\n",
       "      <td>31.071750</td>\n",
       "      <td>1.283658e+19</td>\n",
       "      <td>11401</td>\n",
       "      <td>58491</td>\n",
       "      <td>713</td>\n",
       "      <td>200.10050</td>\n",
       "      <td>31.071752</td>\n",
       "      <td>QSO</td>\n",
       "      <td>BROADLINE</td>\n",
       "      <td>10.6011</td>\n",
       "      <td>13.2886</td>\n",
       "      <td>24.6392</td>\n",
       "      <td>26.4406</td>\n",
       "      <td></td>\n",
       "      <td></td>\n",
       "      <td></td>\n",
       "      <td></td>\n",
       "    </tr>\n",
       "    <tr>\n",
       "      <th>229635</th>\n",
       "      <td>237407075</td>\n",
       "      <td>200.1500</td>\n",
       "      <td>30.903710</td>\n",
       "      <td>1.283658e+19</td>\n",
       "      <td>11401</td>\n",
       "      <td>58491</td>\n",
       "      <td>720</td>\n",
       "      <td>200.15003</td>\n",
       "      <td>30.903717</td>\n",
       "      <td>QSO</td>\n",
       "      <td>BROADLINE</td>\n",
       "      <td>10.6011</td>\n",
       "      <td>13.2886</td>\n",
       "      <td>24.6392</td>\n",
       "      <td>26.4406</td>\n",
       "      <td></td>\n",
       "      <td></td>\n",
       "      <td></td>\n",
       "      <td></td>\n",
       "    </tr>\n",
       "    <tr>\n",
       "      <th>229636</th>\n",
       "      <td>523514062</td>\n",
       "      <td>200.1500</td>\n",
       "      <td>30.903710</td>\n",
       "      <td>1.283658e+19</td>\n",
       "      <td>11401</td>\n",
       "      <td>58491</td>\n",
       "      <td>720</td>\n",
       "      <td>200.15003</td>\n",
       "      <td>30.903717</td>\n",
       "      <td>QSO</td>\n",
       "      <td>BROADLINE</td>\n",
       "      <td>10.6011</td>\n",
       "      <td>13.2886</td>\n",
       "      <td>24.6392</td>\n",
       "      <td>26.4406</td>\n",
       "      <td></td>\n",
       "      <td></td>\n",
       "      <td></td>\n",
       "      <td></td>\n",
       "    </tr>\n",
       "    <tr>\n",
       "      <th>229637</th>\n",
       "      <td>573006207</td>\n",
       "      <td>200.4267</td>\n",
       "      <td>31.582610</td>\n",
       "      <td>1.283659e+19</td>\n",
       "      <td>11401</td>\n",
       "      <td>58491</td>\n",
       "      <td>752</td>\n",
       "      <td>200.42659</td>\n",
       "      <td>31.582603</td>\n",
       "      <td>STAR</td>\n",
       "      <td>F0IV (81937)</td>\n",
       "      <td>10.6011</td>\n",
       "      <td>13.2886</td>\n",
       "      <td>24.6392</td>\n",
       "      <td>26.4406</td>\n",
       "      <td>STAR</td>\n",
       "      <td>F0</td>\n",
       "      <td>NaN</td>\n",
       "      <td>spec-57891-HD131344N323149M02_sp06-207.fits.gz</td>\n",
       "    </tr>\n",
       "    <tr>\n",
       "      <th>229638</th>\n",
       "      <td>523514085</td>\n",
       "      <td>200.4267</td>\n",
       "      <td>31.582610</td>\n",
       "      <td>1.283659e+19</td>\n",
       "      <td>11401</td>\n",
       "      <td>58491</td>\n",
       "      <td>752</td>\n",
       "      <td>200.42659</td>\n",
       "      <td>31.582603</td>\n",
       "      <td>STAR</td>\n",
       "      <td>F0IV (81937)</td>\n",
       "      <td>10.6011</td>\n",
       "      <td>13.2886</td>\n",
       "      <td>24.6392</td>\n",
       "      <td>26.4406</td>\n",
       "      <td>STAR</td>\n",
       "      <td>A7</td>\n",
       "      <td>NaN</td>\n",
       "      <td>spec-57778-HD132818N310857M02_sp14-085.fits.gz</td>\n",
       "    </tr>\n",
       "  </tbody>\n",
       "</table>\n",
       "<p>229639 rows × 19 columns</p>\n",
       "</div>"
      ],
      "text/plain": [
       "            obsid  ra_lamost  dec_lamost     specObjID  plate    mjd  fiberID  \\\n",
       "0       319612101   155.7512   -0.059962  3.051280e+17    271  51883       33   \n",
       "1       229902160   155.1911    0.410111  3.052701e+17    271  51883      550   \n",
       "2       315412029   155.1911    0.410111  3.052701e+17    271  51883      550   \n",
       "3       319612183   155.6168    0.284210  3.052929e+17    271  51883      633   \n",
       "4       134812198   155.5197    0.069353  3.063171e+17    272  51941      263   \n",
       "...           ...        ...         ...           ...    ...    ...      ...   \n",
       "229634  523514070   200.1005   31.071750  1.283658e+19  11401  58491      713   \n",
       "229635  237407075   200.1500   30.903710  1.283658e+19  11401  58491      720   \n",
       "229636  523514062   200.1500   30.903710  1.283658e+19  11401  58491      720   \n",
       "229637  573006207   200.4267   31.582610  1.283659e+19  11401  58491      752   \n",
       "229638  523514085   200.4267   31.582610  1.283659e+19  11401  58491      752   \n",
       "\n",
       "               ra        dec   class      subClass    sn1_g    sn2_g    sn1_i  \\\n",
       "0       155.75117  -0.059968  GALAXY   STARFORMING  20.1005  21.8072  18.3134   \n",
       "1       155.19108   0.410123  GALAXY   STARFORMING  20.1005  21.8072  18.3134   \n",
       "2       155.19108   0.410123  GALAXY   STARFORMING  20.1005  21.8072  18.3134   \n",
       "3       155.61682   0.284189  GALAXY           NaN  20.1005  21.8072  18.3134   \n",
       "4       155.51972   0.069365  GALAXY           NaN  20.0803  21.2267  20.0486   \n",
       "...           ...        ...     ...           ...      ...      ...      ...   \n",
       "229634  200.10050  31.071752     QSO     BROADLINE  10.6011  13.2886  24.6392   \n",
       "229635  200.15003  30.903717     QSO     BROADLINE  10.6011  13.2886  24.6392   \n",
       "229636  200.15003  30.903717     QSO     BROADLINE  10.6011  13.2886  24.6392   \n",
       "229637  200.42659  31.582603    STAR  F0IV (81937)  10.6011  13.2886  24.6392   \n",
       "229638  200.42659  31.582603    STAR  F0IV (81937)  10.6011  13.2886  24.6392   \n",
       "\n",
       "          sn2_i class_lamost subclass_lamost              filename_sdss  \\\n",
       "0       17.2228       GALAXY             Non  spec-0271-51883-0033.fits   \n",
       "1       17.2228       GALAXY             Non  spec-0271-51883-0550.fits   \n",
       "2       17.2228         STAR              F6  spec-0271-51883-0550.fits   \n",
       "3       17.2228      Unknown             Non  spec-0271-51883-0633.fits   \n",
       "4       20.1782      Unknown             Non  spec-0272-51941-0263.fits   \n",
       "...         ...          ...             ...                        ...   \n",
       "229634  26.4406                                                           \n",
       "229635  26.4406                                                           \n",
       "229636  26.4406                                                           \n",
       "229637  26.4406         STAR              F0                        NaN   \n",
       "229638  26.4406         STAR              A7                        NaN   \n",
       "\n",
       "                                       filename_lamost  \n",
       "0       spec-57070-HD101607S013552M01_sp12-101.fits.gz  \n",
       "1       spec-56742-HD102942N012928B01_sp02-160.fits.gz  \n",
       "2       spec-57062-HD101607S013552B01_sp12-029.fits.gz  \n",
       "3       spec-57070-HD101607S013552M01_sp12-183.fits.gz  \n",
       "4       spec-56365-HD101607S013552F01_sp12-198.fits.gz  \n",
       "...                                                ...  \n",
       "229634                                                  \n",
       "229635                                                  \n",
       "229636                                                  \n",
       "229637  spec-57891-HD131344N323149M02_sp06-207.fits.gz  \n",
       "229638  spec-57778-HD132818N310857M02_sp14-085.fits.gz  \n",
       "\n",
       "[229639 rows x 19 columns]"
      ]
     },
     "execution_count": 87,
     "metadata": {},
     "output_type": "execute_result"
    }
   ],
   "source": [
    "#table1 = table.copy()\n",
    "#table.loc[1, 'class_lamost']='wer'\n",
    "table"
   ]
  },
  {
   "cell_type": "code",
   "execution_count": 96,
   "id": "234a0ab3",
   "metadata": {
    "ExecuteTime": {
     "end_time": "2022-06-13T13:49:37.685890Z",
     "start_time": "2022-06-13T13:49:20.777245Z"
    },
    "pycharm": {
     "name": "#%%\n"
    }
   },
   "outputs": [
    {
     "data": {
      "application/vnd.jupyter.widget-view+json": {
       "model_id": "cbc08cd03dee4335ae3873e6ae25a225",
       "version_major": 2,
       "version_minor": 0
      },
      "text/plain": [
       "0it [00:00, ?it/s]"
      ]
     },
     "metadata": {},
     "output_type": "display_data"
    }
   ],
   "source": [
    "class_num = {'A':0,'F':0,'G':0,'K':0}\n",
    "for index, row_sdss in tqdm(table.iterrows()):\n",
    "    if row_sdss['class']==row_sdss['class_lamost']=='STAR':\n",
    "        if row_sdss['subClass'][0]==row_sdss['subclass_lamost'][0]:\n",
    "            if row_sdss['subClass'][0] in ['A','F','G','K']:\n",
    "                if isinstance(row_sdss['filename_sdss'],str) and isinstance(row_sdss['filename_lamost'],str):\n",
    "                    if os.path.exists(folder_sdss+row_sdss['filename_sdss']) and os.path.exists(folder_lamost+row_sdss['filename_lamost']):\n",
    "                        class_num[row_sdss['subClass'][0]] += 1"
   ]
  },
  {
   "cell_type": "code",
   "execution_count": 97,
   "id": "dce83431",
   "metadata": {
    "ExecuteTime": {
     "end_time": "2022-06-13T13:49:44.105073Z",
     "start_time": "2022-06-13T13:49:44.098193Z"
    },
    "pycharm": {
     "name": "#%%\n"
    }
   },
   "outputs": [
    {
     "data": {
      "text/plain": [
       "{'A': 5824, 'F': 5380, 'G': 4151, 'K': 6240}"
      ]
     },
     "execution_count": 97,
     "metadata": {},
     "output_type": "execute_result"
    }
   ],
   "source": [
    "class_num"
   ]
  },
  {
   "cell_type": "code",
   "execution_count": 98,
   "id": "ee3488e3",
   "metadata": {
    "ExecuteTime": {
     "end_time": "2022-06-13T14:01:39.782909Z",
     "start_time": "2022-06-13T14:01:39.773349Z"
    },
    "pycharm": {
     "name": "#%%\n"
    }
   },
   "outputs": [],
   "source": [
    "def read_fits(fits_path):\n",
    "    fits_file = fits.open(fits_path)\n",
    "    hdu = fits_file[0]\n",
    "    data = hdu.data[0]\n",
    "\n",
    "    coeff0 = hdu.header['COEFF0']\n",
    "\n",
    "    start = round(np.log10(4000), 4)\n",
    "    connect1 = round(np.log10(5700), 4)\n",
    "    connect2 = round(np.log10(5900), 4)\n",
    "    end = round(np.log10(8510), 4)\n",
    "\n",
    "    start_index = int((start - coeff0) / 0.0001)\n",
    "    connect1_index = int((connect1 - coeff0) / 0.0001)\n",
    "    connect2_index = int((connect2 - coeff0) / 0.0001)\n",
    "    end_index = int((end - coeff0) / 0.0001)\n",
    "\n",
    "    flux = np.concatenate((data[start_index: connect1_index], data[connect2_index: end_index]), axis=0)\n",
    "\n",
    "    fits_file.close()\n",
    "    # print(flux.shape)\n",
    "\n",
    "    # if flux.shape[0] != 3121:\n",
    "    #     raise ValueError\n",
    "\n",
    "    return flux[:3121]"
   ]
  },
  {
   "cell_type": "code",
   "execution_count": 131,
   "id": "3df6d775",
   "metadata": {
    "ExecuteTime": {
     "end_time": "2022-06-13T15:35:33.090139Z",
     "start_time": "2022-06-13T15:35:33.079750Z"
    },
    "pycharm": {
     "name": "#%%\n"
    }
   },
   "outputs": [],
   "source": [
    "def read_fits_sdss(fits_path):\n",
    "    fits_file = fits.open(fits_path)\n",
    "    hdu = fits_file[0]\n",
    "    data = fits_file[1].data.field('FLUX')\n",
    "\n",
    "    coeff0 = hdu.header['COEFF0']\n",
    "\n",
    "    start = round(np.log10(4000), 4)\n",
    "\n",
    "    end = round(np.log10(8770), 4)\n",
    "\n",
    "    start_index = int((start - coeff0) / 0.0001)\n",
    "    end_index = int((end - coeff0) / 0.0001)\n",
    "\n",
    "    flux = data[start_index: end_index]\n",
    "\n",
    "    fits_file.close()\n",
    "    # print(flux.shape)\n",
    "\n",
    "    if flux.shape[0] < 3405:\n",
    "        raise ValueError\n",
    "\n",
    "    return flux[:3405]"
   ]
  },
  {
   "cell_type": "code",
   "execution_count": 132,
   "id": "ecca3133",
   "metadata": {
    "ExecuteTime": {
     "end_time": "2022-06-13T15:38:39.303507Z",
     "start_time": "2022-06-13T15:35:41.707377Z"
    },
    "scrolled": true,
    "pycharm": {
     "name": "#%%\n"
    }
   },
   "outputs": [
    {
     "data": {
      "application/vnd.jupyter.widget-view+json": {
       "model_id": "b946cb54fda34dc5a6907c056ccb77d3",
       "version_major": 2,
       "version_minor": 0
      },
      "text/plain": [
       "0it [00:00, ?it/s]"
      ]
     },
     "metadata": {},
     "output_type": "display_data"
    },
    {
     "name": "stdout",
     "output_type": "stream",
     "text": [
      "/home/shichenhui/code/data/spectra_bl_greater_45_both_sdss/spec-0323-51615-0176.fits\n"
     ]
    },
    {
     "name": "stderr",
     "output_type": "stream",
     "text": [
      "WARNING: File may have been truncated: actual file length (64885) is smaller than the expected size (138240) [astropy.io.fits.file]\n",
      "WARNING: File may have been truncated: actual file length (32119) is smaller than the expected size (141120) [astropy.io.fits.file]\n"
     ]
    },
    {
     "name": "stdout",
     "output_type": "stream",
     "text": [
      "/home/shichenhui/code/data/spectra_bl_greater_45_both_sdss/spec-0340-51990-0581.fits\n",
      "/home/shichenhui/code/data/spectra_bl_greater_45_both_sdss/spec-0340-51990-0581.fits\n",
      "/home/shichenhui/code/data/spectra_bl_greater_45_both_sdss/spec-0503-51999-0180.fits\n",
      "/home/shichenhui/code/data/spectra_bl_greater_45_both_sdss/spec-0503-51999-0180.fits\n",
      "/home/shichenhui/code/data/spectra_bl_greater_45_both_sdss/spec-0504-52316-0278.fits\n",
      "/home/shichenhui/code/data/spectra_bl_greater_45_both_sdss/spec-0536-52024-0176.fits\n",
      "/home/shichenhui/code/data/spectra_bl_greater_45_both_sdss/spec-0536-52024-0176.fits\n",
      "/home/shichenhui/code/data/spectra_bl_greater_45_both_sdss/spec-0538-52029-0523.fits\n",
      "/home/shichenhui/code/data/spectra_bl_greater_45_both_sdss/spec-0558-52317-0523.fits\n",
      "/home/shichenhui/code/data/spectra_bl_greater_45_both_sdss/spec-0612-52079-0250.fits\n",
      "/home/shichenhui/code/data/spectra_bl_greater_45_both_sdss/spec-0878-52353-0551.fits\n",
      "/home/shichenhui/code/data/spectra_bl_greater_45_both_sdss/spec-0997-52734-0505.fits\n",
      "/home/shichenhui/code/data/spectra_bl_greater_45_both_sdss/spec-0997-52734-0505.fits\n",
      "/home/shichenhui/code/data/spectra_bl_greater_45_both_sdss/spec-0997-52734-0505.fits\n",
      "/home/shichenhui/code/data/spectra_bl_greater_45_both_sdss/spec-0998-52750-0249.fits\n",
      "/home/shichenhui/code/data/spectra_bl_greater_45_both_sdss/spec-0998-52750-0249.fits\n",
      "/home/shichenhui/code/data/spectra_bl_greater_45_both_sdss/spec-0998-52750-0249.fits\n",
      "/home/shichenhui/code/data/spectra_bl_greater_45_both_sdss/spec-1317-52765-0249.fits\n",
      "/home/shichenhui/code/data/spectra_bl_greater_45_both_sdss/spec-1315-52791-0175.fits\n",
      "/home/shichenhui/code/data/spectra_bl_greater_45_both_sdss/spec-1315-52791-0175.fits\n",
      "/home/shichenhui/code/data/spectra_bl_greater_45_both_sdss/spec-1332-52781-0175.fits\n",
      "/home/shichenhui/code/data/spectra_bl_greater_45_both_sdss/spec-1388-53119-0522.fits\n",
      "/home/shichenhui/code/data/spectra_bl_greater_45_both_sdss/spec-1467-53115-0504.fits\n",
      "/home/shichenhui/code/data/spectra_bl_greater_45_both_sdss/spec-1467-53115-0504.fits\n",
      "/home/shichenhui/code/data/spectra_bl_greater_45_both_sdss/spec-1467-53115-0504.fits\n",
      "/home/shichenhui/code/data/spectra_bl_greater_45_both_sdss/spec-1467-53115-0504.fits\n",
      "/home/shichenhui/code/data/spectra_bl_greater_45_both_sdss/spec-1578-53496-0596.fits\n",
      "/home/shichenhui/code/data/spectra_bl_greater_45_both_sdss/spec-1594-52992-0176.fits\n",
      "/home/shichenhui/code/data/spectra_bl_greater_45_both_sdss/spec-1595-52999-0175.fits\n",
      "/home/shichenhui/code/data/spectra_bl_greater_45_both_sdss/spec-1595-52999-0175.fits\n",
      "/home/shichenhui/code/data/spectra_bl_greater_45_both_sdss/spec-1642-53115-0549.fits\n",
      "/home/shichenhui/code/data/spectra_bl_greater_45_both_sdss/spec-1700-53502-0505.fits\n",
      "/home/shichenhui/code/data/spectra_bl_greater_45_both_sdss/spec-1800-53884-0523.fits\n",
      "/home/shichenhui/code/data/spectra_bl_greater_45_both_sdss/spec-1800-53884-0523.fits\n",
      "/home/shichenhui/code/data/spectra_bl_greater_45_both_sdss/spec-1946-53432-0521.fits\n",
      "/home/shichenhui/code/data/spectra_bl_greater_45_both_sdss/spec-1946-53432-0521.fits\n",
      "/home/shichenhui/code/data/spectra_bl_greater_45_both_sdss/spec-1979-53431-0278.fits\n",
      "/home/shichenhui/code/data/spectra_bl_greater_45_both_sdss/spec-2033-53476-0546.fits\n"
     ]
    },
    {
     "name": "stderr",
     "output_type": "stream",
     "text": [
      "WARNING: File may have been truncated: actual file length (81269) is smaller than the expected size (138240) [astropy.io.fits.file]\n"
     ]
    },
    {
     "name": "stdout",
     "output_type": "stream",
     "text": [
      "/home/shichenhui/code/data/spectra_bl_greater_45_both_sdss/spec-2116-53854-0386.fits\n",
      "/home/shichenhui/code/data/spectra_bl_greater_45_both_sdss/spec-2137-54206-0640.fits\n",
      "/home/shichenhui/code/data/spectra_bl_greater_45_both_sdss/spec-2138-53757-0545.fits\n",
      "/home/shichenhui/code/data/spectra_bl_greater_45_both_sdss/spec-2176-54243-0250.fits\n",
      "/home/shichenhui/code/data/spectra_bl_greater_45_both_sdss/spec-2297-53738-0505.fits\n",
      "/home/shichenhui/code/data/spectra_bl_greater_45_both_sdss/spec-2353-53794-0176.fits\n",
      "/home/shichenhui/code/data/spectra_bl_greater_45_both_sdss/spec-2393-54156-0176.fits\n",
      "/home/shichenhui/code/data/spectra_bl_greater_45_both_sdss/spec-2393-54156-0176.fits\n",
      "/home/shichenhui/code/data/spectra_bl_greater_45_both_sdss/spec-2393-54156-0176.fits\n",
      "/home/shichenhui/code/data/spectra_bl_greater_45_both_sdss/spec-2406-54084-0176.fits\n",
      "/home/shichenhui/code/data/spectra_bl_greater_45_both_sdss/spec-2406-54084-0176.fits\n",
      "/home/shichenhui/code/data/spectra_bl_greater_45_both_sdss/spec-2447-54498-0250.fits\n",
      "/home/shichenhui/code/data/spectra_bl_greater_45_both_sdss/spec-2457-54180-0280.fits\n",
      "/home/shichenhui/code/data/spectra_bl_greater_45_both_sdss/spec-2614-54481-0176.fits\n",
      "/home/shichenhui/code/data/spectra_bl_greater_45_both_sdss/spec-2649-54212-0176.fits\n",
      "/home/shichenhui/code/data/spectra_bl_greater_45_both_sdss/spec-2658-54502-0176.fits\n",
      "/home/shichenhui/code/data/spectra_bl_greater_45_both_sdss/spec-2658-54502-0176.fits\n",
      "/home/shichenhui/code/data/spectra_bl_greater_45_both_sdss/spec-2658-54502-0176.fits\n",
      "/home/shichenhui/code/data/spectra_bl_greater_45_both_sdss/spec-2658-54502-0176.fits\n",
      "/home/shichenhui/code/data/spectra_bl_greater_45_both_sdss/spec-2855-54466-0280.fits\n",
      "/home/shichenhui/code/data/spectra_bl_greater_45_both_sdss/spec-2855-54466-0280.fits\n",
      "/home/shichenhui/code/data/spectra_bl_greater_45_both_sdss/spec-2862-54471-0177.fits\n",
      "/home/shichenhui/code/data/spectra_bl_greater_45_both_sdss/spec-2862-54471-0177.fits\n",
      "/home/shichenhui/code/data/spectra_bl_greater_45_both_sdss/spec-2870-54534-0505.fits\n",
      "/home/shichenhui/code/data/spectra_bl_greater_45_both_sdss/spec-2900-54569-0176.fits\n",
      "/home/shichenhui/code/data/spectra_bl_greater_45_both_sdss/spec-2904-54574-0505.fits\n",
      "/home/shichenhui/code/data/spectra_bl_greater_45_both_sdss/spec-3152-54801-0176.fits\n",
      "/home/shichenhui/code/data/spectra_bl_greater_45_both_sdss/spec-3172-54863-0176.fits\n",
      "/home/shichenhui/code/data/spectra_bl_greater_45_both_sdss/spec-3178-54848-0250.fits\n",
      "/home/shichenhui/code/data/spectra_bl_greater_45_both_sdss/spec-3224-54849-0250.fits\n",
      "/home/shichenhui/code/data/spectra_bl_greater_45_both_sdss/spec-3288-54908-0278.fits\n"
     ]
    }
   ],
   "source": [
    "class_num = {'A':0,'F':1,'G':2,'K':3}\n",
    "data_lamost = []\n",
    "data_sdss = []\n",
    "for index, row_sdss in tqdm(table.iterrows()):\n",
    "    if row_sdss['class']==row_sdss['class_lamost']=='STAR':\n",
    "        if row_sdss['subClass'][0]==row_sdss['subclass_lamost'][0]:\n",
    "            if row_sdss['subClass'][0] in ['A','F','G','K']:\n",
    "                if isinstance(row_sdss['filename_sdss'],str) and isinstance(row_sdss['filename_lamost'],str):\n",
    "                    if os.path.exists(folder_sdss+row_sdss['filename_sdss']) and os.path.exists(folder_lamost+row_sdss['filename_lamost']):\n",
    "                        try:\n",
    "                            sp_i = read_fits(folder_lamost+row_sdss['filename_lamost'])\n",
    "                            sp_i = np.append(sp_i, class_num[row_sdss['subClass'][0]])\n",
    "                            data_lamost.append(sp_i)\n",
    "                            sp_j = read_fits_sdss(folder_sdss+row_sdss['filename_sdss'])\n",
    "                            sp_j = np.append(sp_j, class_num[row_sdss['subClass'][0]])\n",
    "                            data_sdss.append(sp_j)\n",
    "                        except:\n",
    "                            print(folder_sdss+row_sdss['filename_sdss'])\n",
    "                        "
   ]
  },
  {
   "cell_type": "code",
   "execution_count": 133,
   "id": "066a7d00",
   "metadata": {
    "ExecuteTime": {
     "end_time": "2022-06-13T15:40:25.018863Z",
     "start_time": "2022-06-13T15:40:24.272328Z"
    },
    "pycharm": {
     "name": "#%%\n"
    }
   },
   "outputs": [],
   "source": [
    "data_lamost_array = np.array(data_lamost)\n",
    "data_sdss_array = np.array(data_sdss)"
   ]
  },
  {
   "cell_type": "code",
   "execution_count": 134,
   "id": "19125667",
   "metadata": {
    "ExecuteTime": {
     "end_time": "2022-06-13T15:40:37.786553Z",
     "start_time": "2022-06-13T15:40:37.779322Z"
    },
    "pycharm": {
     "name": "#%%\n"
    }
   },
   "outputs": [
    {
     "data": {
      "text/plain": [
       "(21595, 3122)"
      ]
     },
     "execution_count": 134,
     "metadata": {},
     "output_type": "execute_result"
    }
   ],
   "source": [
    "data_lamost_array.shape"
   ]
  },
  {
   "cell_type": "code",
   "execution_count": 135,
   "id": "2c9873fb",
   "metadata": {
    "ExecuteTime": {
     "end_time": "2022-06-13T15:40:46.880740Z",
     "start_time": "2022-06-13T15:40:46.865742Z"
    },
    "pycharm": {
     "name": "#%%\n"
    }
   },
   "outputs": [
    {
     "data": {
      "text/plain": [
       "Counter({0.0: 5824, 2.0: 4151, 1.0: 5380, 3.0: 6240})"
      ]
     },
     "execution_count": 135,
     "metadata": {},
     "output_type": "execute_result"
    }
   ],
   "source": [
    "Counter(data_lamost_array[:,-1])"
   ]
  },
  {
   "cell_type": "code",
   "execution_count": 136,
   "id": "1b918ba4",
   "metadata": {
    "ExecuteTime": {
     "end_time": "2022-06-13T15:40:48.986316Z",
     "start_time": "2022-06-13T15:40:48.979493Z"
    },
    "pycharm": {
     "name": "#%%\n"
    }
   },
   "outputs": [
    {
     "data": {
      "text/plain": [
       "(21525, 3406)"
      ]
     },
     "execution_count": 136,
     "metadata": {},
     "output_type": "execute_result"
    }
   ],
   "source": [
    "data_sdss_array.shape"
   ]
  },
  {
   "cell_type": "code",
   "execution_count": 137,
   "id": "54fcbdb9",
   "metadata": {
    "ExecuteTime": {
     "end_time": "2022-06-13T15:41:01.265212Z",
     "start_time": "2022-06-13T15:41:01.251425Z"
    },
    "pycharm": {
     "name": "#%%\n"
    }
   },
   "outputs": [
    {
     "data": {
      "text/plain": [
       "Counter({0.0: 5797, 2.0: 4144, 1.0: 5355, 3.0: 6229})"
      ]
     },
     "execution_count": 137,
     "metadata": {},
     "output_type": "execute_result"
    }
   ],
   "source": [
    "Counter(data_sdss_array[:,-1])"
   ]
  },
  {
   "cell_type": "code",
   "execution_count": 138,
   "id": "7ccee7bc",
   "metadata": {
    "ExecuteTime": {
     "end_time": "2022-06-13T15:44:02.444356Z",
     "start_time": "2022-06-13T15:43:43.461793Z"
    },
    "pycharm": {
     "name": "#%%\n"
    }
   },
   "outputs": [],
   "source": [
    "f_save = open(r'/home/shichenhui/code/data/data_process/constract_dataset/both_lamost.csv', 'w')\n",
    "np.savetxt(f_save, data_lamost_array, fmt='%.4f', delimiter=',')\n",
    "f_save.close()"
   ]
  },
  {
   "cell_type": "code",
   "execution_count": 139,
   "id": "db957e18",
   "metadata": {
    "ExecuteTime": {
     "end_time": "2022-06-13T15:44:28.082683Z",
     "start_time": "2022-06-13T15:44:07.842345Z"
    },
    "pycharm": {
     "name": "#%%\n"
    }
   },
   "outputs": [],
   "source": [
    "f_save = open(r'/home/shichenhui/code/data/data_process/constract_dataset/both_sdss.csv', 'w')\n",
    "np.savetxt(f_save, data_sdss_array, fmt='%.4f', delimiter=',')\n",
    "f_save.close()"
   ]
  },
  {
   "cell_type": "code",
   "execution_count": null,
   "id": "2c5e7a80",
   "metadata": {
    "pycharm": {
     "name": "#%%\n"
    }
   },
   "outputs": [],
   "source": []
  },
  {
   "cell_type": "code",
   "execution_count": null,
   "id": "f67b305d",
   "metadata": {
    "pycharm": {
     "name": "#%%\n"
    }
   },
   "outputs": [],
   "source": []
  },
  {
   "cell_type": "code",
   "execution_count": 118,
   "id": "4fea4c12",
   "metadata": {
    "ExecuteTime": {
     "end_time": "2022-06-13T14:47:53.524123Z",
     "start_time": "2022-06-13T14:47:53.501030Z"
    },
    "pycharm": {
     "name": "#%%\n"
    }
   },
   "outputs": [
    {
     "data": {
      "text/plain": [
       "(FITS_rec([( 0.65092945, 3.5837, 0.13239732, 0, 0, 1.1027   , 11.491563 ,  3.2980127),\n",
       "           ( 5.4315395 , 3.5838, 0.13300723, 0, 0, 1.1027446,  9.73197  ,  3.3170137),\n",
       "           ( 1.7685558 , 3.5839, 0.14442177, 0, 0, 1.1023489,  8.947948 ,  3.1808774),\n",
       "           ...,\n",
       "           (11.349359  , 3.9644, 0.4301919 , 0, 0, 0.762726 ,  5.6773763, 11.885662 ),\n",
       "           (10.122386  , 3.9645, 0.40675002, 0, 0, 0.7634966,  7.4592633, 11.880726 ),\n",
       "           ( 9.011201  , 3.9646, 0.39071622, 0, 0, 0.7642198,  8.992491 , 11.907731 )],\n",
       "          dtype=(numpy.record, [('flux', '>f4'), ('loglam', '>f4'), ('ivar', '>f4'), ('and_mask', '>i4'), ('or_mask', '>i4'), ('wdisp', '>f4'), ('sky', '>f4'), ('model', '>f4')])),\n",
       " 3.5837)"
      ]
     },
     "execution_count": 118,
     "metadata": {},
     "output_type": "execute_result"
    }
   ],
   "source": [
    "# 测试读取sdss光谱\n",
    "fits_path = '/home/shichenhui/code/data/spectra_bl_greater_45_both_sdss/spec-0271-51883-0633.fits'\n",
    "fits_f=fits.open(fits_path)\n",
    "\n",
    "\n",
    "fits_f[1].data,np.array(fits_f[1].data)"
   ]
  },
  {
   "cell_type": "code",
   "execution_count": null,
   "id": "662cce27",
   "metadata": {
    "pycharm": {
     "name": "#%%\n"
    }
   },
   "outputs": [],
   "source": []
  },
  {
   "cell_type": "code",
   "execution_count": null,
   "id": "b4756e21",
   "metadata": {
    "pycharm": {
     "name": "#%%\n"
    }
   },
   "outputs": [],
   "source": []
  },
  {
   "cell_type": "code",
   "execution_count": null,
   "id": "04d5784e",
   "metadata": {
    "pycharm": {
     "name": "#%%\n"
    }
   },
   "outputs": [],
   "source": []
  },
  {
   "cell_type": "code",
   "execution_count": null,
   "id": "dc0c2de5",
   "metadata": {
    "pycharm": {
     "name": "#%%\n"
    }
   },
   "outputs": [],
   "source": []
  }
 ],
 "metadata": {
  "kernelspec": {
   "display_name": "Python 3",
   "language": "python",
   "name": "python3"
  },
  "language_info": {
   "codemirror_mode": {
    "name": "ipython",
    "version": 3
   },
   "file_extension": ".py",
   "mimetype": "text/x-python",
   "name": "python",
   "nbconvert_exporter": "python",
   "pygments_lexer": "ipython3",
   "version": "3.8.10"
  }
 },
 "nbformat": 4,
 "nbformat_minor": 5
}